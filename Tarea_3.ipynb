{
 "cells": [
  {
   "cell_type": "markdown",
   "metadata": {},
   "source": [
    "# Tarea 3 Cadenas de Markov\n",
    "\n",
    "\n",
    "Autores: \n",
    "- Daniel Alejandro García Hernández\n",
    "- David Camilo Cortes Salazar\n",
    "\n",
    "En este notebook se encuentra una implementación de algunos resultados vistos en clase para el Gibbs Sampler aplicado a Hard-core y q-colorings. \n",
    "\n",
    "Las librerías necesarias para ejectuar el código son:"
   ]
  },
  {
   "cell_type": "code",
   "execution_count": 1,
   "metadata": {},
   "outputs": [],
   "source": [
    "import numpy as np\n",
    "import random\n",
    "from pprint import pprint"
   ]
  },
  {
   "cell_type": "markdown",
   "metadata": {},
   "source": [
    "# Modelo de Ising y Algoritmo de Propp - Wilson"
   ]
  },
  {
   "cell_type": "markdown",
   "metadata": {},
   "source": [
    "### Muestras del modelo de Ising con inverso de temperatura usando MCMC\n",
    "\n",
    "Iniciamos creando la grilla del módelo. Para esto, creamos una matriz 2x2 apoyandonos en la libreria Numpy y la declaramos de tamaño $kxk$. las dimensiones del grafo. $10\\leq k \\leq 20$.\n",
    "\n",
    "Tambien creamos una lista con los beetas que vamos a evaluar y otra con los diferentes numeros de pasos con los que ejecturemos el algoritmo."
   ]
  },
  {
   "cell_type": "code",
   "execution_count": 33,
   "metadata": {},
   "outputs": [],
   "source": [
    "k = 10\n",
    "beta_list = [0, 0.1, 0.2, 0.3, 0.4, 0.5, 0.6, 0.7, 0.8, 0.9, 1]\n",
    "steps_list = [10**3, 10**4, 10**5]\n",
    "muestras = 100"
   ]
  },
  {
   "cell_type": "markdown",
   "metadata": {},
   "source": [
    "Ahora recordemos como se calculaba la energia del sistema dada una configuracion. Esto esta dado por la funcion $H(\\eta)$ descrita acontinuacion:"
   ]
  },
  {
   "cell_type": "markdown",
   "metadata": {},
   "source": [
    "$$H(\\eta)=-\\sum_{x\\thicksim y}\\eta_{x}\\eta_{y}$$"
   ]
  },
  {
   "cell_type": "markdown",
   "metadata": {},
   "source": [
    "Donde $\\eta$ es la configuracion actual del sistema y $\\eta_{x}$, $\\eta_{y}$ son la posicion de dos nodos de $\\eta$ tal que $x$ y $y$ estan conectados.\n",
    "\n",
    "Con esto en mente creamos una funcion que calcula la energia del sistema dada una configuracion $\\eta$ del modelo."
   ]
  },
  {
   "cell_type": "code",
   "execution_count": 34,
   "metadata": {},
   "outputs": [],
   "source": [
    "def calcular_energia(G, k):\n",
    "    # Calcula la energia de la configuracion dada\n",
    "    energia = 0\n",
    "    for i in range(k):\n",
    "        for j in range(k):\n",
    "            if i != k-1:\n",
    "                energia += G[i,j]*G[i+1, j]\n",
    "            if j != k-1:\n",
    "                energia += G[i,j]*G[i, j+1]\n",
    "    return -1 * energia"
   ]
  },
  {
   "cell_type": "markdown",
   "metadata": {},
   "source": [
    "Ahora usemos un gibbs sampler para implementar el metodo de montecarlo en nuestro problema. Este funcionara de la siguiente manera:\n",
    "\n",
    "- Seleccione un vertice al azar $(\\~{x}, \\~{y})$ de la configurtacion actual $\\eta$.\n",
    "- Cambie el valor del vertice escogido (Si el vertice es 1, cambie por -1 y viceversa). Esto para obtener una nueva configuracion $\\hat{\\eta}$ del sistema.\n",
    "- Calcule la energia de las configuraciones $\\eta$ y $\\hat{\\eta}$.\n",
    "- Calcule la probabilidad de cambio de $\\eta$ y $\\hat{\\eta}$ utilizando la probabilidad de distribucion del vetice $(\\~{x}, \\~{y})$: "
   ]
  },
  {
   "cell_type": "markdown",
   "metadata": {},
   "source": [
    "$$ \\frac{\\exp^{2\\beta (H(\\hat{\\eta})-H(\\eta))}}{\\exp^{2\\beta (H(\\hat{\\eta})-H(\\eta))} + 1} $$"
   ]
  },
  {
   "cell_type": "markdown",
   "metadata": {},
   "source": [
    "- Genere un numero aleatorio uniforme $p$ entre 0 y 1\n",
    "- Si $p < \\Delta \\pi$, acepta la configuracion $\\hat{\\eta}$. Si no, mantenemos con la configuracion $\\eta$.\n",
    "- Repetimos el algoritmo hasta completar las iteraciones propuestas.\n",
    "\n",
    "Note que al calcular la energia de los sistemas no es necesario hacer todas las pusibles multiplicaciones de spines conectados. Esta energia se usara el el calculo de la probabilidad de cambio al hallar el valor: $H(\\hat{\\eta}) - H(\\eta)$. Pero estas configuraciones solo difiren en un punto, luego tenemos lo siguiente:"
   ]
  },
  {
   "cell_type": "markdown",
   "metadata": {},
   "source": [
    "$$H(\\hat{\\eta}) - H(\\eta)= -\\sum_{x\\thicksim y}\\hat{\\eta}_{x}\\hat{\\eta}_{y} - (-\\sum_{x\\thicksim y}\\eta_{x}\\eta_{y}) = \\sum_{x\\thicksim y}\\eta_{x}\\eta_{y} - \\sum_{x\\thicksim y}\\hat{\\eta}_{x}\\hat{\\eta}_{y}$$"
   ]
  },
  {
   "cell_type": "markdown",
   "metadata": {},
   "source": [
    "Y haciendo una particion entre los productos afectados por el nodo $(\\~{x}, \\~{y})$ donde $X = \\{(x,y) : x\\thicksim y \\wedge x\\not= \\~x \\wedge y\\not= \\~y\\}$ y $\\~X = \\{(x,y) : x\\thicksim y \\wedge x = \\~x \\lor y = \\~y\\}$:"
   ]
  },
  {
   "cell_type": "markdown",
   "metadata": {},
   "source": [
    "$$ = \\sum_{X} \\eta_{x}\\eta_{y} - \\hat{\\eta}_{x}\\hat{\\eta}_{y} + \\sum_{\\~X} \\eta_{x}\\eta_{y} - \\hat{\\eta}_{x}\\hat{\\eta}_{y} = \\sum_{\\~X} \\eta_{x}\\eta_{y} - \\hat{\\eta}_{x}\\hat{\\eta}_{y} = -\\sum_{\\~X}\\hat{\\eta}_{x}\\hat{\\eta}_{y} - (-\\sum_{\\~X}\\eta_{x}\\eta_{y})$$"
   ]
  },
  {
   "cell_type": "markdown",
   "metadata": {},
   "source": [
    "Pero como la unica diferencia entre $\\hat{\\eta}$ y $\\eta$ el el signo en el nodo $(\\~x, \\~y)$, tenemos que $\\sum_{\\~X}\\hat{\\eta}_{x}\\hat{\\eta}_{y} = (-\\sum_{\\~X}\\eta_{x}\\eta_{y})$. Obteniendo:\n",
    "\n"
   ]
  },
  {
   "cell_type": "markdown",
   "metadata": {},
   "source": [
    "$$= -(-\\sum_{\\~X}\\eta_{x}\\eta_{y}) - (-\\sum_{\\~X}\\eta_{x}\\eta_{y}) = \\sum_{\\~X}\\eta_{x}\\eta_{y} + \\sum_{\\~X}\\eta_{x}\\eta_{y} = 2\\sum_{\\~X}\\eta_{x}\\eta_{y}$$"
   ]
  },
  {
   "cell_type": "markdown",
   "metadata": {},
   "source": [
    "Obteniendo una simplificacion en el numero de operaciones a realizar para hacer la diferencia de calores. En resumen, este resultado nos muestra que basta con hallar la diferencia del producto de los nodos que estan relacionados con el punto escogido de manera aleatoria.\n",
    "\n",
    "A continuacion, creamos una nueva funcion para el calculo de la energia:"
   ]
  },
  {
   "cell_type": "code",
   "execution_count": 35,
   "metadata": {},
   "outputs": [],
   "source": [
    "def calcular_diferencia_energia(G, k, x, y):\n",
    "    # Calcula la diferencia de la energia en la configuracion dada\n",
    "    energia = 0\n",
    "    if x != 0:\n",
    "        energia += G[x-1, y]\n",
    "    if x != k-1:\n",
    "        energia += G[x+1, y]\n",
    "    if y != 0:\n",
    "        energia += G[x, y-1]\n",
    "    if y != k-1:\n",
    "        energia += G[x, y+1]\n",
    "    return 2 * G[x, y] * energia"
   ]
  },
  {
   "cell_type": "markdown",
   "metadata": {},
   "source": [
    "Y con esto creamos el Gibbs sampler para nuestro modelo:"
   ]
  },
  {
   "cell_type": "code",
   "execution_count": 43,
   "metadata": {},
   "outputs": [],
   "source": [
    "def aceptar_cambio(G, x, y, beta, energia):\n",
    "    # Calcula la probabilidad de cambio de la nueva configuracion\n",
    "    e = np.exp(2 * beta * energia)\n",
    "    prob_cambio = e / (e+1)\n",
    "\n",
    "    # Condicion de Cambio\n",
    "    if np.random.rand() < prob_cambio: # Aplica Monte Carlo\n",
    "        #G[x, y] *= -1 # Cambia el spin\n",
    "        G[x, y] = 1 # Cambia el spin\n",
    "    else: G[x, y] = -1 # Cambia el spin\n",
    "\n",
    "\n",
    "def gibbs_sampler_mcmc(G, beta, iteraciones, k):\n",
    "    for _ in range(iteraciones):\n",
    "        \n",
    "        # Selecciona spin aleatorio\n",
    "        x = random.randint(0,k-1)\n",
    "        y = random.randint(0,k-1)\n",
    "\n",
    "        # Calcula la energia de la configuracion actual y siguiente segun el spin dado\n",
    "\n",
    "        diferencia_energia = calcular_diferencia_energia(G, k, x, y)\n",
    "        \n",
    "        # Evalua el cambio\n",
    "        aceptar_cambio(G, x, y, beta, diferencia_energia)\n",
    "    \n",
    "    return G"
   ]
  },
  {
   "cell_type": "markdown",
   "metadata": {},
   "source": [
    "Ahora solo nos queda probar el algoritmo con los valores de beta y pasos del gibbs sampler que definimos al inicio para obtener el numero de muestras deseadas"
   ]
  },
  {
   "cell_type": "code",
   "execution_count": 37,
   "metadata": {},
   "outputs": [
    {
     "name": "stdout",
     "output_type": "stream",
     "text": [
      "Guardado 100 muestras con X = 10000 para beta = 0\n",
      "Guardado 100 muestras con X = 10000 para beta = 0.1\n",
      "Guardado 100 muestras con X = 10000 para beta = 0.2\n",
      "Guardado 100 muestras con X = 10000 para beta = 0.3\n",
      "Guardado 100 muestras con X = 10000 para beta = 0.4\n",
      "Guardado 100 muestras con X = 10000 para beta = 0.5\n",
      "Guardado 100 muestras con X = 10000 para beta = 0.6\n",
      "Guardado 100 muestras con X = 10000 para beta = 0.7\n",
      "Guardado 100 muestras con X = 10000 para beta = 0.8\n",
      "Guardado 100 muestras con X = 10000 para beta = 0.9\n",
      "Guardado 100 muestras con X = 10000 para beta = 1\n"
     ]
    }
   ],
   "source": [
    "configuraciones_mcmc = {}\n",
    "\n",
    "# Loop principal\n",
    "for beta in beta_list: # Beta a utilizar\n",
    "    configuraciones_mcmc[beta] = {key: [] for key in steps_list}\n",
    "    for step in steps_list[1:2]: # Numero de pasos a utilizar\n",
    "        for _ in range(muestras): # Numero de muestras a guardar\n",
    "            G = np.random.choice([-1, 1], size=(k, k))  # Configuración inicial aleatoria\n",
    "            configuraciones_mcmc[beta][step].append(gibbs_sampler_mcmc(G, beta, step, k).copy())  # Guarda la configuracion final\n",
    "        print(f\"Guardado {muestras} muestras con X = {step} para beta = {beta}\")"
   ]
  },
  {
   "cell_type": "markdown",
   "metadata": {},
   "source": [
    "### Muestras del modelo de Ising con inverso de temperatura usando Prop-Wilson\n",
    "\n",
    "Usaremos los mismos valores usados anteriormente para hacer una comparacion mas adelante"
   ]
  },
  {
   "cell_type": "code",
   "execution_count": 46,
   "metadata": {},
   "outputs": [
    {
     "ename": "KeyboardInterrupt",
     "evalue": "",
     "output_type": "error",
     "traceback": [
      "\u001b[1;31m---------------------------------------------------------------------------\u001b[0m",
      "\u001b[1;31mKeyboardInterrupt\u001b[0m                         Traceback (most recent call last)",
      "Cell \u001b[1;32mIn[46], line 35\u001b[0m\n\u001b[0;32m     33\u001b[0m configuraciones_pw[beta] \u001b[38;5;241m=\u001b[39m []\n\u001b[0;32m     34\u001b[0m \u001b[38;5;28;01mfor\u001b[39;00m _ \u001b[38;5;129;01min\u001b[39;00m \u001b[38;5;28mrange\u001b[39m(\u001b[38;5;241m1\u001b[39m): \u001b[38;5;66;03m# Numero de muestras a guardar\u001b[39;00m\n\u001b[1;32m---> 35\u001b[0m     configuraciones_pw[beta]\u001b[38;5;241m.\u001b[39mappend(\u001b[43mgibbs_sampler_pw\u001b[49m\u001b[43m(\u001b[49m\u001b[43mk\u001b[49m\u001b[43m,\u001b[49m\u001b[43m \u001b[49m\u001b[43mbeta\u001b[49m\u001b[43m)\u001b[49m\u001b[38;5;241m.\u001b[39mcopy())  \u001b[38;5;66;03m# Guarda la configuracion final\u001b[39;00m\n\u001b[0;32m     36\u001b[0m \u001b[38;5;28mprint\u001b[39m(\u001b[38;5;124mf\u001b[39m\u001b[38;5;124m\"\u001b[39m\u001b[38;5;124mGuardado \u001b[39m\u001b[38;5;132;01m{\u001b[39;00mmuestras\u001b[38;5;132;01m}\u001b[39;00m\u001b[38;5;124m muestras para beta = \u001b[39m\u001b[38;5;132;01m{\u001b[39;00mbeta\u001b[38;5;132;01m}\u001b[39;00m\u001b[38;5;124m\"\u001b[39m)\n",
      "Cell \u001b[1;32mIn[46], line 17\u001b[0m, in \u001b[0;36mgibbs_sampler_pw\u001b[1;34m(k, beta)\u001b[0m\n\u001b[0;32m     13\u001b[0m \u001b[38;5;66;03m# Sandwiching\u001b[39;00m\n\u001b[0;32m     14\u001b[0m \n\u001b[0;32m     15\u001b[0m \u001b[38;5;66;03m# Cambio de estado en grafo min\u001b[39;00m\n\u001b[0;32m     16\u001b[0m delta_energia_min \u001b[38;5;241m=\u001b[39m calcular_diferencia_energia(G_min, k, x, y)\n\u001b[1;32m---> 17\u001b[0m \u001b[43maceptar_cambio\u001b[49m\u001b[43m(\u001b[49m\u001b[43mG_min\u001b[49m\u001b[43m,\u001b[49m\u001b[43m \u001b[49m\u001b[43mx\u001b[49m\u001b[43m,\u001b[49m\u001b[43m \u001b[49m\u001b[43my\u001b[49m\u001b[43m,\u001b[49m\u001b[43m \u001b[49m\u001b[43mbeta\u001b[49m\u001b[43m,\u001b[49m\u001b[43m \u001b[49m\u001b[43mdelta_energia_min\u001b[49m\u001b[43m)\u001b[49m\n\u001b[0;32m     19\u001b[0m \u001b[38;5;66;03m# Cambio de estado en grafo max\u001b[39;00m\n\u001b[0;32m     20\u001b[0m delta_energia_max \u001b[38;5;241m=\u001b[39m calcular_diferencia_energia(G_max, k, x, y)\n",
      "Cell \u001b[1;32mIn[43], line 1\u001b[0m, in \u001b[0;36maceptar_cambio\u001b[1;34m(G, x, y, beta, energia)\u001b[0m\n\u001b[1;32m----> 1\u001b[0m \u001b[38;5;28;01mdef\u001b[39;00m \u001b[38;5;21maceptar_cambio\u001b[39m(G, x, y, beta, energia):\n\u001b[0;32m      2\u001b[0m     \u001b[38;5;66;03m# Calcula la probabilidad de cambio de la nueva configuracion\u001b[39;00m\n\u001b[0;32m      3\u001b[0m     e \u001b[38;5;241m=\u001b[39m np\u001b[38;5;241m.\u001b[39mexp(\u001b[38;5;241m2\u001b[39m \u001b[38;5;241m*\u001b[39m beta \u001b[38;5;241m*\u001b[39m energia)\n\u001b[0;32m      4\u001b[0m     prob_cambio \u001b[38;5;241m=\u001b[39m e \u001b[38;5;241m/\u001b[39m (e\u001b[38;5;241m+\u001b[39m\u001b[38;5;241m1\u001b[39m)\n",
      "\u001b[1;31mKeyboardInterrupt\u001b[0m: "
     ]
    }
   ],
   "source": [
    "def gibbs_sampler_pw(k, beta):\n",
    "    # Configuraciones extremas\n",
    "    G_min = -np.ones((k, k))\n",
    "    G_max = np.ones((k, k))\n",
    "    \n",
    "    while True:\n",
    "        \n",
    "        for _ in range(k*k):\n",
    "            \n",
    "            x = random.randint(0,k-1)\n",
    "            y = random.randint(0,k-1)\n",
    "\n",
    "            # Sandwiching\n",
    "\n",
    "            # Cambio de estado en grafo min\n",
    "            delta_energia_min = calcular_diferencia_energia(G_min, k, x, y)\n",
    "            aceptar_cambio(G_min, x, y, beta, delta_energia_min)\n",
    "\n",
    "            # Cambio de estado en grafo max\n",
    "            delta_energia_max = calcular_diferencia_energia(G_max, k, x, y)\n",
    "            aceptar_cambio(G_max, x, y, beta, delta_energia_max)\n",
    "        \n",
    "        # Verifica coalecencia\n",
    "        if np.array_equal(G_min, G_max):\n",
    "            return G_min \n",
    "\n",
    "configuraciones_pw = {}\n",
    "\n",
    "k = 10\n",
    "\n",
    "# Loop principal\n",
    "for beta in beta_list: # Beta a utilizar\n",
    "    configuraciones_pw[beta] = []\n",
    "    for _ in range(1): # Numero de muestras a guardar\n",
    "        configuraciones_pw[beta].append(gibbs_sampler_pw(k, beta).copy())  # Guarda la configuracion final\n",
    "    print(f\"Guardado {muestras} muestras para beta = {beta}\")\n",
    "\n"
   ]
  },
  {
   "cell_type": "code",
   "execution_count": 40,
   "metadata": {},
   "outputs": [
    {
     "name": "stdout",
     "output_type": "stream",
     "text": [
      "{0: [array([[ 1.,  1., -1.],\n",
      "       [-1., -1.,  1.],\n",
      "       [-1., -1.,  1.]])],\n",
      " 0.1: [array([[ 1., -1.,  1.],\n",
      "       [-1., -1., -1.],\n",
      "       [ 1.,  1.,  1.]])],\n",
      " 0.2: [array([[-1.,  1., -1.],\n",
      "       [ 1., -1.,  1.],\n",
      "       [-1.,  1., -1.]])],\n",
      " 0.3: [array([[-1.,  1., -1.],\n",
      "       [ 1., -1.,  1.],\n",
      "       [-1.,  1., -1.]])],\n",
      " 0.4: [array([[ 1., -1.,  1.],\n",
      "       [-1.,  1., -1.],\n",
      "       [ 1., -1.,  1.]])],\n",
      " 0.5: [array([[ 1., -1.,  1.],\n",
      "       [-1.,  1., -1.],\n",
      "       [ 1., -1.,  1.]])],\n",
      " 0.6: [array([[ 1., -1.,  1.],\n",
      "       [-1.,  1., -1.],\n",
      "       [ 1., -1.,  1.]])],\n",
      " 0.7: [array([[ 1., -1.,  1.],\n",
      "       [-1.,  1., -1.],\n",
      "       [ 1., -1.,  1.]])],\n",
      " 0.8: [array([[ 1., -1.,  1.],\n",
      "       [-1.,  1., -1.],\n",
      "       [ 1., -1.,  1.]])],\n",
      " 0.9: [array([[ 1., -1.,  1.],\n",
      "       [-1.,  1., -1.],\n",
      "       [ 1., -1.,  1.]])],\n",
      " 1: [array([[-1.,  1., -1.],\n",
      "       [ 1., -1.,  1.],\n",
      "       [-1.,  1., -1.]])]}\n"
     ]
    }
   ],
   "source": [
    "pprint(configuraciones_pw)"
   ]
  },
  {
   "cell_type": "code",
   "execution_count": null,
   "metadata": {},
   "outputs": [],
   "source": []
  }
 ],
 "metadata": {
  "kernelspec": {
   "display_name": "myenv",
   "language": "python",
   "name": "python3"
  },
  "language_info": {
   "codemirror_mode": {
    "name": "ipython",
    "version": 3
   },
   "file_extension": ".py",
   "mimetype": "text/x-python",
   "name": "python",
   "nbconvert_exporter": "python",
   "pygments_lexer": "ipython3",
   "version": "3.10.6"
  }
 },
 "nbformat": 4,
 "nbformat_minor": 2
}
