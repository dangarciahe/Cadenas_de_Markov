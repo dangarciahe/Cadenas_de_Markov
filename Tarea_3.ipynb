{
 "cells": [
  {
   "cell_type": "markdown",
   "metadata": {},
   "source": [
    "# Tarea 3 Cadenas de Markov\n",
    "\n",
    "\n",
    "Autores: \n",
    "- Daniel Alejandro García Hernández\n",
    "- David Camilo Cortes Salazar\n",
    "\n",
    "En este notebook se encuentra una implementación de algunos resultados vistos en clase para el Gibbs Sampler aplicado a Hard-core y q-colorings. \n",
    "\n",
    "Las librerías necesarias para ejectuar el código son:"
   ]
  },
  {
   "cell_type": "code",
   "execution_count": 1,
   "metadata": {
    "ExecuteTime": {
     "end_time": "2024-09-06T02:22:05.830670Z",
     "start_time": "2024-09-06T02:22:05.775704Z"
    }
   },
   "outputs": [],
   "source": [
    "import numpy as np\n",
    "import random\n",
    "import matplotlib.pyplot as plt\n",
    "from pprint import pprint"
   ]
  },
  {
   "cell_type": "markdown",
   "metadata": {},
   "source": [
    "# Modelo de Ising  usando MCMC y Algoritmo de Propp - Wilson"
   ]
  },
  {
   "cell_type": "markdown",
   "metadata": {},
   "source": [
    "### Muestras del modelo de Ising con inverso de temperatura usando MCMC\n",
    "\n",
    "Iniciamos creando la grilla del módelo. Para esto, creamos una matriz 2x2 apoyandonos en la libreria Numpy y la declaramos de tamaño $kxk$. las dimensiones del grafo. $10\\leq k \\leq 20$.\n",
    "\n",
    "Tambien creamos una lista con los beetas que vamos a evaluar y otra con los diferentes numeros de pasos con los que ejecturemos el algoritmo."
   ]
  },
  {
   "cell_type": "code",
   "execution_count": 2,
   "metadata": {
    "ExecuteTime": {
     "end_time": "2024-09-06T02:22:59.241154Z",
     "start_time": "2024-09-06T02:22:59.239121Z"
    }
   },
   "outputs": [],
   "source": [
    "k = 10\n",
    "beta_list = [0, 0.1, 0.2, 0.3, 0.4, 0.5]#, 0.6, 0.7, 0.8, 0.9, 1]\n",
    "steps_list = [10**3, 10**4, 10**5]\n",
    "n_muestras = 100"
   ]
  },
  {
   "cell_type": "markdown",
   "metadata": {},
   "source": [
    "Ahora recordemos como se calculaba la energia del sistema dada una configuracion. Esto esta dado por la funcion $H(\\eta)$ descrita acontinuacion:"
   ]
  },
  {
   "cell_type": "markdown",
   "metadata": {},
   "source": [
    "$$H(\\eta)=-\\sum_{x\\thicksim y}\\eta_{x}\\eta_{y}$$"
   ]
  },
  {
   "cell_type": "markdown",
   "metadata": {},
   "source": [
    "D0onde $\\eta$ es la configuracion actual del sistema y $\\eta_{x}$, $\\eta_{y}$ son la posicion de dos nodos de $\\eta$ tal que $x$ y $y$ estan conectados.\n",
    "\n",
    "Con esto en mente creamos una funcion que calcula la energia del sistema dada una configuracion $\\eta$ del modelo."
   ]
  },
  {
   "cell_type": "code",
   "execution_count": 3,
   "metadata": {
    "ExecuteTime": {
     "end_time": "2024-09-06T03:06:53.529978Z",
     "start_time": "2024-09-06T03:06:53.526096Z"
    }
   },
   "outputs": [],
   "source": [
    "def calcular_energia(G):\n",
    "    \"\"\"\n",
    "    Calcula la energia de la configuracion dada. Primero se suman enlaces horizontales, luego verticales\n",
    "    \"\"\" \n",
    "    energia = 0\n",
    "    k = len(G)\n",
    "    \n",
    "    ## Suma sobre enlaces horizontales\n",
    "    for ii in range(k):\n",
    "        for jj in range(k-1):\n",
    "            energia += G[ii,jj] * G[ii,jj+1]\n",
    "            \n",
    "    ## Suma sobre enlaces verticales\n",
    "    for ii in range(k-1):\n",
    "        for jj in range(k):\n",
    "            energia += G[ii,jj] * G[ii+1,jj]\n",
    "    \n",
    "\n",
    "    return -1 * energia"
   ]
  },
  {
   "cell_type": "markdown",
   "metadata": {},
   "source": [
    "Ahora usemos un gibbs sampler para implementar el metodo de montecarlo en nuestro problema. Este funcionara de la siguiente manera:\n",
    "\n",
    "- Seleccione un vertice al azar $\\~{x}$ de la configurtacion actual $\\eta$.\n",
    "- Cambie el valor del vertice escogido (Si el vertice es 1, cambie por -1 y viceversa). Esto para obtener una nueva configuracion $\\hat{\\eta}$ del sistema.\n",
    "- Calcule la diferencia de energia de la configuracion $\\eta$.\n",
    "- Calcule la probabilidad de cambio de $\\eta$ utilizando la probabilidad de distribucion del vetice $\\~{x}$: "
   ]
  },
  {
   "cell_type": "markdown",
   "metadata": {},
   "source": [
    "$$ \\Delta \\pi = \\frac{\\exp^{2\\beta (k_{+}(\\~x, \\eta)-k_{-}(\\~x, \\eta))}}{\\exp^{2\\beta (k_{+}(\\~x, \\eta)-k_{-}(\\~x, \\eta))} + 1} $$"
   ]
  },
  {
   "cell_type": "markdown",
   "metadata": {},
   "source": [
    "- Genere un numero aleatorio uniforme $u$ entre 0 y 1\n",
    "- Si $u < \\Delta \\pi$, acepta la nueva configuracion. Si no, mantenemos con la configuracion $\\eta$.\n",
    "- Repetimos el algoritmo hasta completar las iteraciones propuestas."
   ]
  },
  {
   "cell_type": "markdown",
   "metadata": {},
   "source": [
    "Note que el calculo de la energia deja de aparecer directamenete en el algoritmo, y aparece la diferencia entre la acumulacion de cargas positivas y negativas alrededor de un vertice dado.\n",
    "\n",
    "A continuacion, creamos una nueva funcion para el calculo de esta acumulacion y otra para la probabiliadad de cambio:"
   ]
  },
  {
   "cell_type": "code",
   "execution_count": 4,
   "metadata": {
    "ExecuteTime": {
     "end_time": "2024-09-06T02:38:33.906448Z",
     "start_time": "2024-09-06T02:38:33.903126Z"
    }
   },
   "outputs": [],
   "source": [
    "def calcular_diferencia_energia(G, k, x, y):\n",
    "    # Calcula la diferencia de la energia en la configuracion dada\n",
    "    energia = 0\n",
    "    if x != 0:\n",
    "        energia += G[x-1, y]\n",
    "    if x != k-1:\n",
    "        energia += G[x+1, y]\n",
    "    if y != 0:\n",
    "        energia += G[x, y-1]\n",
    "    if y != k-1:\n",
    "        energia += G[x, y+1]\n",
    "    return energia\n",
    "\n",
    "def calcular_probabilidad(beta, energia):\n",
    "    # Calcula la probabilidad de cambio de la nueva configuracion\n",
    "    e = np.exp(2 * beta * energia)\n",
    "    return e / (e+1)"
   ]
  },
  {
   "cell_type": "markdown",
   "metadata": {},
   "source": [
    "Y con esto creamos el Gibbs sampler para nuestro modelo:"
   ]
  },
  {
   "cell_type": "code",
   "execution_count": 5,
   "metadata": {
    "ExecuteTime": {
     "end_time": "2024-09-06T02:38:34.728980Z",
     "start_time": "2024-09-06T02:38:34.725585Z"
    }
   },
   "outputs": [],
   "source": [
    "def gibbs_sampler_mcmc(G, beta, iteraciones, k):\n",
    "    for _ in range(iteraciones):\n",
    "        \n",
    "        # Selecciona spin aleatorio\n",
    "        x = random.randint(0,k-1)\n",
    "        y = random.randint(0,k-1)\n",
    "\n",
    "        # Calcula la energia de la configuracion actual y siguiente segun el spin dado\n",
    "\n",
    "        diferencia_energia = calcular_diferencia_energia(G, k, x, y)\n",
    "        \n",
    "        # Evalua el cambio\n",
    "        prob_cambio = calcular_probabilidad(beta, diferencia_energia)\n",
    "\n",
    "        # Condicion de Cambio\n",
    "        if np.random.rand() < prob_cambio:\n",
    "            G[x, y] = 1 # Cambia el spin\n",
    "        else: \n",
    "            G[x, y] = -1# Cambia el spin\n",
    "    \n",
    "    return G"
   ]
  },
  {
   "cell_type": "markdown",
   "metadata": {},
   "source": [
    "Ahora solo nos queda probar el algoritmo con los valores de beta y pasos del gibbs sampler que definimos al inicio para obtener el numero de muestras deseadas"
   ]
  },
  {
   "cell_type": "code",
   "execution_count": 6,
   "metadata": {
    "ExecuteTime": {
     "end_time": "2024-09-06T02:39:14.637102Z",
     "start_time": "2024-09-06T02:38:35.631529Z"
    }
   },
   "outputs": [
    {
     "name": "stdout",
     "output_type": "stream",
     "text": [
      "Guardado 100 muestras con X = 1000 para beta = 0\n",
      "Guardado 100 muestras con X = 1000 para beta = 0.1\n",
      "Guardado 100 muestras con X = 1000 para beta = 0.2\n",
      "Guardado 100 muestras con X = 1000 para beta = 0.3\n",
      "Guardado 100 muestras con X = 1000 para beta = 0.4\n",
      "Guardado 100 muestras con X = 1000 para beta = 0.5\n",
      "Guardado 100 muestras con X = 10000 para beta = 0\n",
      "Guardado 100 muestras con X = 10000 para beta = 0.1\n",
      "Guardado 100 muestras con X = 10000 para beta = 0.2\n",
      "Guardado 100 muestras con X = 10000 para beta = 0.3\n",
      "Guardado 100 muestras con X = 10000 para beta = 0.4\n",
      "Guardado 100 muestras con X = 10000 para beta = 0.5\n",
      "Guardado 100 muestras con X = 100000 para beta = 0\n",
      "Guardado 100 muestras con X = 100000 para beta = 0.1\n",
      "Guardado 100 muestras con X = 100000 para beta = 0.2\n",
      "Guardado 100 muestras con X = 100000 para beta = 0.3\n",
      "Guardado 100 muestras con X = 100000 para beta = 0.4\n",
      "Guardado 100 muestras con X = 100000 para beta = 0.5\n"
     ]
    }
   ],
   "source": [
    "configuraciones_mcmc = {}\n",
    "\n",
    "# Loop principal\n",
    "for step in steps_list: # Beta a utilizar\n",
    "    configuraciones_mcmc[step] = {key: [] for key in beta_list}\n",
    "    for beta in beta_list: # Numero de pasos a utilizar\n",
    "        for _ in range(n_muestras): # Numero de muestras a guardar\n",
    "            G = np.random.choice([-1, 1], size=(k, k))  # Configuración inicial aleatoria\n",
    "            configuraciones_mcmc[step][beta].append(gibbs_sampler_mcmc(G, beta, step, k).copy())  # Guarda la configuracion final\n",
    "        print(f\"Guardado {n_muestras} muestras con X = {step} para beta = {beta}\")"
   ]
  },
  {
   "cell_type": "markdown",
   "metadata": {},
   "source": [
    "### Muestras del modelo de Ising con inverso de temperatura usando Prop-Wilson\n",
    "\n",
    "Usaremos los mismos valores tomados anteriormente para hacer una comparacion mas adelante entre las muetras de propp - wilson y mcmc.\n",
    "\n",
    "Las funciones de acumulacion y probabilidad son las mismas, aqui cambia el metodo de aplicar el gibbs sapler. Usaremos sadwiching para la implementacion de el algoritmo de Propp-Wilson sobre las cofiguraciones $\\eta_{min}$ (Todos -1) y $\\eta_{max}$ (Todos 1). Y para este, nos hace falta:\n",
    "\n",
    "- Una secuencia creciente de numeros enteros positivos: $\\space N = \\{N_{1}, N_{2}, ... \\}$.\n",
    "- Una secuencia de numeros aleatorios uniformemente distribuidos en $[0, 1]$: $\\space U = \\{U_{0}, U_{-1}, ... \\}$.\n",
    "- Dos secuencias de numeros aleatorios uniformemente distribuidos en $[0, k-1]$: $\\space \\~U = \\{ \\~U_{0}, \\~U_{-1}, ... \\}\\space$ y $ \\space \\~U^ = \\{ \\~U^{'}_{0}, \\~U^{'}_{-1}, ... \\}$.\n",
    "\n",
    "La secuencia N nos servira para seleccionar los elementos de las sucesiones aleatorias. Tomaremos $N_{n} = 2^{n}$. La secuencia U, dicatara los valores a comparar con las probabilidades de cambio de los sistemas $\\eta_{min}$ y $\\eta_{max}$. Y las secuencias $U$ y $\\~U$ seran las encargadas de seleccionar las cordenadas $\\~x$ e $\\~y$ del vertices a evaluar.\n",
    "\n",
    "Para esto, cremos la siguiente clase:\n"
   ]
  },
  {
   "cell_type": "code",
   "execution_count": 7,
   "metadata": {},
   "outputs": [],
   "source": [
    "class Random_sequence:\n",
    "    def __init__(self, k):\n",
    "        self.k = k\n",
    "        self.N = 0 # indice de la sucesion de numeros creciente (N)\n",
    "        self.U_float = np.zeros((0,), dtype=float)\n",
    "        self.U_int = np.zeros((0,2), dtype=int)\n",
    "\n",
    "    def update_random(self, sig_N):\n",
    "        self.U_float.resize((sig_N,))\n",
    "        self.U_int.resize((sig_N,2))\n",
    "        self.U_float[self.N:] = np.random.random((sig_N - self.N,))\n",
    "        self.U_int[self.N:] = np.random.randint(0, self.k, size=(sig_N - self.N,2))\n",
    "        self.N = sig_N"
   ]
  },
  {
   "cell_type": "markdown",
   "metadata": {},
   "source": [
    "Esta clase funciona nos asegura generar numeros aleatorios nuevos en cada paso del gibbs sampler y seleccionar los correspondientes segun la secuencia dada. Ademas, estos valores se guardan en los arreglos creados y nos permiten ver el registro historico de elementos aleatorios seleccionados.\n",
    "\n",
    "\n",
    "Ahora podemos crear nuestro Gibbs Sampler usando Propp-Wilson:"
   ]
  },
  {
   "cell_type": "code",
   "execution_count": 8,
   "metadata": {},
   "outputs": [],
   "source": [
    "def gibbs_sampler_pw(k, beta):\n",
    "\n",
    "    N = 1 # indice de la sucesion de numeros creciente\n",
    "    rand_sequence = Random_sequence(k) # Clase de generacion y memoria de numeros aleatorios usados\n",
    "    rand_sequence.update_random(N) # genera primeros numeros aleatorios\n",
    "\n",
    "    #coalecencia\n",
    "    times = 0\n",
    "\n",
    "    # Configuraciones extremas\\n\",\n",
    "    G_max = np.ones((k, k))\n",
    "    G_min = -np.ones((k, k))\n",
    "\n",
    "    while True:\n",
    "        \n",
    "        top_size = rand_sequence.U_float.size\n",
    "        \n",
    "        for i in range(top_size):\n",
    "            times += 1\n",
    "\n",
    "            m = top_size - i - 1 # indice de la secuencia aleatoria\n",
    "\n",
    "            x = rand_sequence.U_int[m, 0] # Numero aleatorio dado por la secuencia de enteros\n",
    "            y = rand_sequence.U_int[m, 1] # Numero aleatorio dado por la secuencia de enteros\n",
    "\n",
    "            # Sandwiching\\n\",\n",
    "\n",
    "            delta_energia_min = calcular_diferencia_energia(G_min, k, x, y)\n",
    "            delta_energia_max = calcular_diferencia_energia(G_max, k, x, y)\n",
    "\n",
    "            prob_cambio_max = calcular_probabilidad(beta, delta_energia_max)\n",
    "            prob_cambio_min = calcular_probabilidad(beta, delta_energia_min)\n",
    "\n",
    "            rand_to_prob = rand_sequence.U_float[m] # Numero aleatorio dado por la secuencia de flotantes\n",
    "\n",
    "            # Condicion de Cambio G1\\n\",\n",
    "            if rand_to_prob < prob_cambio_max:\n",
    "                G_max[x, y] = 1 \n",
    "            else: \n",
    "                G_max[x, y] = -1\n",
    "\n",
    "            # Condicion de Cambio G2\\n\",\n",
    "            if rand_to_prob < prob_cambio_min:\n",
    "                G_min[x, y] = 1 \n",
    "            else:\n",
    "                G_min[x, y] = -1 \n",
    "\n",
    "        # Verifica coalecencia\\n\",\n",
    "        if np.array_equal(G_min, G_max):\n",
    "            return G_min, times\n",
    "        else:\n",
    "            N = max(N+1, N*2) # sucesion de potencias de 2\n",
    "            rand_sequence.update_random(N) # genera nuevos numeros aleatorios\n"
   ]
  },
  {
   "cell_type": "markdown",
   "metadata": {},
   "source": [
    "Ahora generamos las muestras deseadas con los valores de beta dados"
   ]
  },
  {
   "cell_type": "code",
   "execution_count": 9,
   "metadata": {},
   "outputs": [
    {
     "name": "stdout",
     "output_type": "stream",
     "text": [
      "Guardado 100 muestras para beta = 0\n",
      "Guardado 100 muestras para beta = 0.1\n",
      "Guardado 100 muestras para beta = 0.2\n",
      "Guardado 100 muestras para beta = 0.3\n",
      "Guardado 100 muestras para beta = 0.4\n",
      "Guardado 100 muestras para beta = 0.5\n"
     ]
    }
   ],
   "source": [
    "configuraciones_pw = {}\n",
    "tiempos_coalescencia = {}\n",
    "\n",
    "k = 10\n",
    "\n",
    "# Loop principal\\n\",\n",
    "for beta in beta_list: # Beta a utilizar\n",
    "    configuraciones_pw[beta] = []\n",
    "    tiempos_coalescencia[beta] = []\n",
    "    for _ in range(100): # Numero de muestras a guardar\n",
    "        data = gibbs_sampler_pw(k, beta)\n",
    "        configuraciones_pw[beta].append(data[0].copy())  # Guarda la configuracion final\n",
    "        tiempos_coalescencia[beta].append(data[1])  # Guarda el tiempo de coalecencia\n",
    "    print(f\"Guardado {n_muestras} muestras para beta = {beta}\")"
   ]
  },
  {
   "cell_type": "markdown",
   "metadata": {},
   "source": [
    "### Estimacion valor esperado de magnetismo en modelo de Isnig\n",
    "\n",
    "Con las muestras que tenemos, vamos a comparar los resultados generados con Monnte Carlo Markov Chains y los generados con Propp-Wilson. La primera parte para esto es calcular el magnetismo de cada una de las muestras encontradas, esto se hace usando la siguiente formula:"
   ]
  },
  {
   "cell_type": "markdown",
   "metadata": {},
   "source": [
    "$$M(\\eta) = \\frac{1}{|V_{k}|}\\sum_{x \\in V_{k}} \\eta_{x}$$"
   ]
  },
  {
   "cell_type": "markdown",
   "metadata": {},
   "source": [
    "Vea que para nuestro caso $|V_{k}| = k^{2}$, luego tenemos la siguiente funcion:"
   ]
  },
  {
   "cell_type": "code",
   "execution_count": 10,
   "metadata": {},
   "outputs": [
    {
     "name": "stdout",
     "output_type": "stream",
     "text": [
      "Magnetismo usando MCMC con X = 1000: {0: [0.14, 0.06, 0.0, 0.12, 0.02, 0.04, 0.12, 0.06, 0.08, 0.02, 0.06, 0.02, 0.18, 0.14, 0.08, 0.0, 0.1, 0.02, 0.02, 0.24, 0.06, 0.06, 0.08, 0.14, 0.1, 0.22, 0.08, 0.14, 0.12, 0.06, 0.26, 0.0, 0.08, 0.04, 0.08, 0.06, 0.02, 0.24, 0.22, 0.06, 0.08, 0.08, 0.12, 0.02, 0.02, 0.1, 0.0, 0.18, 0.2, 0.2, 0.08, 0.02, 0.08, 0.02, 0.02, 0.12, 0.04, 0.14, 0.12, 0.06, 0.08, 0.04, 0.12, 0.04, 0.12, 0.08, 0.08, 0.04, 0.02, 0.04, 0.18, 0.04, 0.04, 0.02, 0.12, 0.04, 0.0, 0.14, 0.08, 0.08, 0.12, 0.14, 0.06, 0.0, 0.08, 0.08, 0.1, 0.06, 0.0, 0.06, 0.06, 0.12, 0.14, 0.02, 0.06, 0.08, 0.08, 0.0, 0.02, 0.2], 0.1: [0.04, 0.02, 0.02, 0.16, 0.16, 0.12, 0.24, 0.04, 0.16, 0.16, 0.0, 0.18, 0.0, 0.02, 0.2, 0.04, 0.08, 0.02, 0.1, 0.04, 0.0, 0.08, 0.02, 0.04, 0.08, 0.2, 0.06, 0.22, 0.08, 0.06, 0.06, 0.02, 0.06, 0.0, 0.32, 0.18, 0.14, 0.18, 0.1, 0.2, 0.16, 0.0, 0.08, 0.12, 0.02, 0.04, 0.24, 0.24, 0.38, 0.1, 0.04, 0.04, 0.06, 0.28, 0.06, 0.0, 0.06, 0.18, 0.04, 0.06, 0.12, 0.1, 0.0, 0.1, 0.06, 0.14, 0.08, 0.04, 0.1, 0.08, 0.06, 0.26, 0.06, 0.04, 0.06, 0.06, 0.08, 0.06, 0.06, 0.06, 0.16, 0.06, 0.22, 0.18, 0.08, 0.2, 0.16, 0.08, 0.06, 0.1, 0.04, 0.06, 0.0, 0.32, 0.26, 0.06, 0.1, 0.02, 0.18, 0.08], 0.2: [0.18, 0.04, 0.08, 0.02, 0.3, 0.1, 0.06, 0.16, 0.02, 0.1, 0.26, 0.16, 0.04, 0.12, 0.08, 0.1, 0.04, 0.02, 0.04, 0.16, 0.06, 0.26, 0.16, 0.06, 0.3, 0.1, 0.06, 0.18, 0.2, 0.0, 0.12, 0.14, 0.16, 0.24, 0.12, 0.22, 0.12, 0.04, 0.18, 0.06, 0.2, 0.02, 0.16, 0.02, 0.1, 0.3, 0.16, 0.08, 0.08, 0.14, 0.1, 0.42, 0.08, 0.08, 0.1, 0.08, 0.18, 0.06, 0.06, 0.14, 0.06, 0.34, 0.22, 0.04, 0.04, 0.1, 0.0, 0.08, 0.08, 0.08, 0.1, 0.14, 0.06, 0.18, 0.22, 0.06, 0.1, 0.08, 0.04, 0.36, 0.02, 0.14, 0.04, 0.04, 0.2, 0.36, 0.06, 0.06, 0.1, 0.08, 0.26, 0.08, 0.0, 0.14, 0.32, 0.12, 0.0, 0.22, 0.06, 0.06], 0.3: [0.12, 0.2, 0.42, 0.04, 0.46, 0.08, 0.32, 0.1, 0.12, 0.24, 0.18, 0.14, 0.06, 0.1, 0.22, 0.18, 0.48, 0.22, 0.2, 0.16, 0.02, 0.08, 0.08, 0.3, 0.04, 0.06, 0.08, 0.18, 0.02, 0.12, 0.12, 0.26, 0.28, 0.26, 0.36, 0.02, 0.26, 0.42, 0.06, 0.08, 0.0, 0.52, 0.0, 0.32, 0.14, 0.12, 0.32, 0.18, 0.32, 0.14, 0.24, 0.14, 0.12, 0.44, 0.22, 0.3, 0.06, 0.64, 0.04, 0.02, 0.14, 0.44, 0.14, 0.32, 0.04, 0.28, 0.36, 0.02, 0.28, 0.24, 0.14, 0.04, 0.12, 0.3, 0.14, 0.14, 0.06, 0.18, 0.42, 0.04, 0.14, 0.08, 0.12, 0.24, 0.08, 0.24, 0.12, 0.24, 0.3, 0.24, 0.02, 0.32, 0.38, 0.2, 0.1, 0.08, 0.12, 0.48, 0.02, 0.34], 0.4: [0.6, 0.26, 0.2, 0.16, 0.04, 0.02, 0.6, 0.16, 0.08, 0.46, 0.28, 0.2, 0.4, 0.02, 0.02, 0.06, 0.12, 0.1, 0.06, 0.26, 0.24, 0.04, 0.6, 0.52, 0.56, 0.34, 0.56, 0.16, 0.32, 0.38, 0.22, 0.34, 0.0, 0.28, 0.18, 0.06, 0.5, 0.84, 0.22, 0.44, 0.2, 0.64, 0.32, 0.24, 0.24, 0.08, 0.5, 0.08, 0.18, 0.72, 0.04, 0.08, 0.2, 0.68, 0.2, 0.32, 0.28, 0.22, 0.2, 0.5, 0.22, 0.0, 0.66, 0.14, 0.02, 0.04, 0.14, 0.58, 0.08, 0.18, 0.46, 0.58, 0.08, 0.28, 0.06, 0.16, 0.26, 0.38, 0.38, 0.72, 0.16, 0.26, 0.54, 0.0, 0.22, 0.16, 0.44, 0.04, 0.26, 0.56, 0.28, 0.34, 0.42, 0.52, 0.56, 0.08, 0.26, 0.42, 0.06, 0.16], 0.5: [0.56, 0.48, 0.68, 0.5, 0.62, 0.42, 0.4, 0.74, 0.5, 0.76, 0.06, 0.22, 0.74, 0.06, 0.24, 0.48, 0.16, 0.06, 0.1, 0.64, 0.34, 0.18, 0.2, 0.06, 0.32, 0.14, 0.5, 0.34, 0.5, 0.46, 0.24, 0.42, 0.6, 0.14, 0.32, 0.72, 0.16, 0.48, 0.5, 0.32, 0.34, 0.18, 0.6, 0.32, 0.02, 0.68, 0.44, 0.2, 0.38, 0.74, 0.14, 0.36, 0.62, 0.2, 0.34, 0.16, 0.0, 0.76, 0.0, 0.02, 0.22, 0.22, 0.2, 0.4, 0.38, 0.24, 0.56, 0.6, 0.06, 0.1, 0.18, 0.4, 0.1, 0.74, 0.44, 0.14, 0.1, 0.24, 0.22, 0.42, 0.06, 0.08, 0.46, 0.06, 0.06, 0.32, 0.34, 0.2, 0.12, 0.2, 0.42, 0.18, 0.26, 0.7, 0.3, 0.52, 0.0, 0.78, 0.62, 0.64]}\n",
      "Magnetismo usando MCMC con X = 10000: {0: [0.12, 0.04, 0.06, 0.1, 0.1, 0.08, 0.04, 0.02, 0.06, 0.08, 0.1, 0.02, 0.06, 0.06, 0.04, 0.14, 0.06, 0.1, 0.02, 0.16, 0.12, 0.0, 0.02, 0.16, 0.02, 0.02, 0.08, 0.08, 0.04, 0.02, 0.04, 0.14, 0.04, 0.12, 0.04, 0.1, 0.12, 0.04, 0.06, 0.02, 0.18, 0.0, 0.16, 0.06, 0.04, 0.12, 0.02, 0.22, 0.04, 0.18, 0.06, 0.1, 0.06, 0.14, 0.08, 0.06, 0.08, 0.16, 0.12, 0.06, 0.22, 0.12, 0.04, 0.04, 0.02, 0.28, 0.12, 0.06, 0.1, 0.26, 0.18, 0.02, 0.04, 0.08, 0.12, 0.06, 0.04, 0.1, 0.12, 0.0, 0.04, 0.0, 0.04, 0.18, 0.02, 0.18, 0.16, 0.12, 0.06, 0.12, 0.08, 0.2, 0.02, 0.16, 0.06, 0.02, 0.12, 0.02, 0.1, 0.1], 0.1: [0.22, 0.06, 0.36, 0.16, 0.16, 0.24, 0.0, 0.0, 0.0, 0.08, 0.08, 0.04, 0.1, 0.14, 0.02, 0.14, 0.1, 0.26, 0.04, 0.06, 0.04, 0.08, 0.02, 0.06, 0.02, 0.14, 0.02, 0.04, 0.04, 0.12, 0.12, 0.06, 0.14, 0.1, 0.28, 0.2, 0.04, 0.14, 0.0, 0.06, 0.06, 0.16, 0.08, 0.1, 0.1, 0.06, 0.08, 0.06, 0.08, 0.02, 0.1, 0.1, 0.04, 0.2, 0.02, 0.04, 0.1, 0.1, 0.06, 0.06, 0.2, 0.04, 0.06, 0.16, 0.2, 0.02, 0.02, 0.12, 0.06, 0.04, 0.04, 0.06, 0.1, 0.18, 0.04, 0.2, 0.2, 0.02, 0.14, 0.08, 0.02, 0.02, 0.26, 0.04, 0.1, 0.02, 0.08, 0.1, 0.16, 0.04, 0.0, 0.14, 0.1, 0.12, 0.04, 0.24, 0.02, 0.02, 0.02, 0.14], 0.2: [0.04, 0.28, 0.0, 0.0, 0.04, 0.42, 0.06, 0.2, 0.1, 0.12, 0.02, 0.1, 0.1, 0.14, 0.22, 0.06, 0.38, 0.2, 0.1, 0.26, 0.46, 0.04, 0.22, 0.08, 0.0, 0.0, 0.14, 0.02, 0.26, 0.16, 0.1, 0.3, 0.08, 0.26, 0.04, 0.34, 0.14, 0.2, 0.16, 0.06, 0.0, 0.0, 0.3, 0.16, 0.02, 0.04, 0.12, 0.02, 0.24, 0.18, 0.08, 0.12, 0.08, 0.1, 0.04, 0.28, 0.18, 0.1, 0.24, 0.14, 0.0, 0.04, 0.04, 0.14, 0.24, 0.2, 0.04, 0.24, 0.08, 0.2, 0.12, 0.32, 0.18, 0.4, 0.24, 0.04, 0.06, 0.12, 0.04, 0.18, 0.24, 0.08, 0.02, 0.2, 0.16, 0.14, 0.08, 0.28, 0.06, 0.18, 0.16, 0.1, 0.02, 0.16, 0.04, 0.14, 0.18, 0.0, 0.06, 0.3], 0.3: [0.14, 0.32, 0.18, 0.1, 0.22, 0.08, 0.1, 0.36, 0.26, 0.06, 0.06, 0.26, 0.16, 0.04, 0.18, 0.1, 0.04, 0.08, 0.16, 0.22, 0.26, 0.06, 0.1, 0.02, 0.26, 0.06, 0.34, 0.1, 0.02, 0.16, 0.26, 0.18, 0.02, 0.32, 0.14, 0.22, 0.24, 0.36, 0.08, 0.18, 0.2, 0.24, 0.12, 0.16, 0.16, 0.02, 0.26, 0.2, 0.06, 0.02, 0.08, 0.18, 0.3, 0.18, 0.32, 0.3, 0.14, 0.26, 0.2, 0.32, 0.46, 0.42, 0.14, 0.12, 0.18, 0.1, 0.06, 0.6, 0.18, 0.16, 0.38, 0.44, 0.28, 0.04, 0.3, 0.08, 0.16, 0.22, 0.32, 0.02, 0.12, 0.38, 0.12, 0.2, 0.1, 0.28, 0.22, 0.18, 0.22, 0.08, 0.18, 0.08, 0.02, 0.16, 0.22, 0.04, 0.08, 0.26, 0.06, 0.04], 0.4: [0.66, 0.2, 0.1, 0.36, 0.06, 0.64, 0.3, 0.74, 0.46, 0.1, 0.58, 0.26, 0.12, 0.64, 0.2, 0.46, 0.08, 0.78, 0.16, 0.5, 0.02, 0.48, 0.14, 0.58, 0.22, 0.0, 0.02, 0.64, 0.42, 0.4, 0.36, 0.18, 0.26, 0.26, 0.68, 0.26, 0.28, 0.04, 0.52, 0.22, 0.72, 0.1, 0.16, 0.52, 0.6, 0.32, 0.54, 0.22, 0.7, 0.58, 0.26, 0.02, 0.6, 0.14, 0.54, 0.08, 0.3, 0.2, 0.02, 0.18, 0.36, 0.32, 0.42, 0.32, 0.14, 0.08, 0.44, 0.06, 0.54, 0.68, 0.22, 0.66, 0.44, 0.1, 0.0, 0.1, 0.44, 0.44, 0.48, 0.08, 0.04, 0.56, 0.62, 0.68, 0.2, 0.24, 0.04, 0.34, 0.4, 0.2, 0.04, 0.18, 0.56, 0.2, 0.04, 0.28, 0.46, 0.54, 0.48, 0.04], 0.5: [0.7, 0.78, 0.94, 0.04, 0.84, 0.24, 0.76, 0.16, 0.38, 0.72, 0.58, 0.14, 0.6, 0.3, 0.56, 0.82, 0.92, 0.6, 0.8, 0.26, 0.92, 0.92, 0.72, 0.8, 0.7, 0.7, 0.94, 0.74, 0.58, 0.48, 0.68, 0.58, 0.72, 0.92, 0.58, 0.56, 0.52, 0.4, 0.42, 0.98, 0.78, 0.52, 0.92, 0.9, 0.9, 0.68, 0.02, 0.86, 0.86, 0.88, 0.46, 0.86, 0.86, 0.88, 0.24, 0.4, 0.36, 0.76, 0.9, 0.62, 0.6, 0.66, 0.8, 0.36, 0.88, 0.76, 0.7, 0.84, 0.24, 0.88, 0.62, 0.64, 0.94, 0.9, 0.84, 0.8, 0.2, 0.64, 0.36, 0.46, 0.88, 0.92, 0.74, 0.28, 0.32, 0.8, 0.58, 0.88, 0.84, 0.44, 0.36, 0.26, 0.12, 0.12, 0.88, 0.38, 0.56, 0.9, 0.52, 0.34]}\n",
      "Magnetismo usando MCMC con X = 100000: {0: [0.02, 0.12, 0.02, 0.12, 0.02, 0.1, 0.16, 0.12, 0.1, 0.14, 0.1, 0.14, 0.12, 0.06, 0.12, 0.0, 0.2, 0.06, 0.04, 0.26, 0.16, 0.12, 0.1, 0.0, 0.02, 0.06, 0.26, 0.08, 0.06, 0.0, 0.0, 0.02, 0.1, 0.14, 0.06, 0.02, 0.06, 0.08, 0.06, 0.18, 0.14, 0.04, 0.04, 0.04, 0.14, 0.18, 0.08, 0.14, 0.06, 0.14, 0.0, 0.04, 0.06, 0.02, 0.08, 0.18, 0.08, 0.0, 0.06, 0.04, 0.02, 0.1, 0.2, 0.08, 0.24, 0.14, 0.02, 0.22, 0.02, 0.06, 0.04, 0.1, 0.12, 0.08, 0.32, 0.06, 0.08, 0.02, 0.08, 0.06, 0.18, 0.04, 0.1, 0.06, 0.14, 0.08, 0.12, 0.2, 0.12, 0.2, 0.04, 0.02, 0.12, 0.02, 0.08, 0.1, 0.02, 0.02, 0.02, 0.08], 0.1: [0.02, 0.26, 0.06, 0.04, 0.08, 0.16, 0.02, 0.02, 0.06, 0.12, 0.06, 0.1, 0.02, 0.02, 0.04, 0.16, 0.04, 0.14, 0.08, 0.18, 0.04, 0.04, 0.06, 0.06, 0.0, 0.12, 0.02, 0.14, 0.06, 0.04, 0.04, 0.06, 0.02, 0.06, 0.2, 0.08, 0.4, 0.08, 0.1, 0.12, 0.14, 0.04, 0.08, 0.12, 0.1, 0.0, 0.16, 0.06, 0.24, 0.1, 0.08, 0.16, 0.22, 0.06, 0.0, 0.06, 0.18, 0.12, 0.1, 0.08, 0.06, 0.02, 0.0, 0.12, 0.26, 0.1, 0.18, 0.0, 0.0, 0.02, 0.0, 0.0, 0.06, 0.02, 0.08, 0.1, 0.02, 0.02, 0.02, 0.14, 0.02, 0.02, 0.08, 0.08, 0.22, 0.08, 0.18, 0.02, 0.18, 0.02, 0.1, 0.28, 0.16, 0.2, 0.2, 0.02, 0.04, 0.14, 0.26, 0.2], 0.2: [0.2, 0.08, 0.02, 0.08, 0.06, 0.1, 0.32, 0.08, 0.18, 0.04, 0.12, 0.02, 0.0, 0.06, 0.04, 0.22, 0.1, 0.26, 0.08, 0.04, 0.0, 0.02, 0.22, 0.22, 0.3, 0.04, 0.16, 0.12, 0.14, 0.14, 0.18, 0.02, 0.2, 0.24, 0.06, 0.02, 0.22, 0.24, 0.2, 0.4, 0.08, 0.0, 0.32, 0.16, 0.08, 0.02, 0.02, 0.2, 0.02, 0.4, 0.08, 0.14, 0.24, 0.04, 0.1, 0.28, 0.08, 0.1, 0.08, 0.22, 0.08, 0.18, 0.28, 0.12, 0.1, 0.06, 0.02, 0.0, 0.16, 0.06, 0.08, 0.06, 0.14, 0.1, 0.18, 0.08, 0.24, 0.14, 0.04, 0.12, 0.02, 0.04, 0.06, 0.12, 0.04, 0.12, 0.08, 0.02, 0.34, 0.0, 0.0, 0.06, 0.04, 0.14, 0.02, 0.02, 0.0, 0.08, 0.0, 0.12], 0.3: [0.16, 0.14, 0.18, 0.16, 0.12, 0.3, 0.16, 0.12, 0.2, 0.0, 0.1, 0.12, 0.26, 0.02, 0.1, 0.28, 0.06, 0.06, 0.02, 0.2, 0.04, 0.08, 0.4, 0.3, 0.38, 0.2, 0.16, 0.34, 0.14, 0.22, 0.54, 0.2, 0.16, 0.1, 0.14, 0.04, 0.02, 0.12, 0.16, 0.08, 0.2, 0.1, 0.08, 0.2, 0.02, 0.28, 0.46, 0.04, 0.02, 0.24, 0.5, 0.44, 0.0, 0.34, 0.08, 0.2, 0.08, 0.06, 0.26, 0.06, 0.16, 0.18, 0.26, 0.1, 0.24, 0.36, 0.18, 0.08, 0.32, 0.0, 0.28, 0.2, 0.14, 0.2, 0.02, 0.42, 0.18, 0.2, 0.04, 0.54, 0.12, 0.26, 0.08, 0.24, 0.34, 0.08, 0.04, 0.12, 0.16, 0.1, 0.16, 0.16, 0.46, 0.12, 0.28, 0.68, 0.24, 0.18, 0.18, 0.48], 0.4: [0.1, 0.22, 0.24, 0.04, 0.24, 0.3, 0.44, 0.36, 0.16, 0.34, 0.14, 0.52, 0.0, 0.16, 0.16, 0.3, 0.04, 0.04, 0.12, 0.16, 0.42, 0.2, 0.18, 0.28, 0.1, 0.06, 0.16, 0.36, 0.38, 0.18, 0.74, 0.04, 0.38, 0.28, 0.6, 0.4, 0.7, 0.72, 0.14, 0.52, 0.54, 0.32, 0.18, 0.56, 0.16, 0.06, 0.06, 0.14, 0.6, 0.6, 0.0, 0.04, 0.22, 0.48, 0.44, 0.1, 0.32, 0.5, 0.52, 0.44, 0.56, 0.08, 0.04, 0.1, 0.42, 0.08, 0.3, 0.36, 0.32, 0.08, 0.12, 0.24, 0.26, 0.26, 0.2, 0.56, 0.08, 0.62, 0.18, 0.14, 0.06, 0.48, 0.5, 0.58, 0.3, 0.1, 0.08, 0.78, 0.0, 0.42, 0.44, 0.12, 0.06, 0.08, 0.7, 0.06, 0.46, 0.4, 0.12, 0.12], 0.5: [0.98, 0.16, 0.9, 0.76, 0.5, 0.5, 0.54, 0.48, 0.52, 0.8, 0.58, 0.28, 0.9, 0.56, 0.5, 0.26, 0.74, 0.62, 0.72, 0.84, 0.94, 0.06, 0.66, 0.84, 0.26, 0.92, 0.9, 0.7, 0.8, 0.96, 0.06, 0.28, 0.86, 0.28, 0.3, 0.42, 0.5, 0.84, 0.74, 0.82, 0.72, 0.86, 0.56, 0.88, 0.88, 0.9, 0.98, 0.92, 0.84, 0.34, 0.36, 0.06, 0.34, 0.68, 0.38, 0.88, 0.52, 0.72, 0.3, 0.86, 0.14, 0.7, 0.34, 0.68, 0.7, 0.9, 0.52, 0.3, 0.8, 0.0, 0.96, 0.54, 0.72, 0.12, 0.08, 0.76, 0.66, 0.84, 0.62, 0.72, 0.82, 0.56, 0.12, 0.08, 0.7, 0.72, 0.92, 0.7, 0.8, 0.92, 0.62, 0.78, 0.78, 0.16, 0.96, 0.54, 0.78, 0.96, 0.58, 0.14]}\n",
      "Magnetismo usando PW: {0: [0.02, 0.18, 0.1, 0.28, 0.06, 0.06, 0.12, 0.02, 0.02, 0.02, 0.12, 0.1, 0.1, 0.0, 0.04, 0.08, 0.16, 0.04, 0.12, 0.14, 0.1, 0.2, 0.06, 0.2, 0.04, 0.04, 0.08, 0.02, 0.02, 0.02, 0.06, 0.04, 0.1, 0.06, 0.18, 0.04, 0.02, 0.06, 0.06, 0.04, 0.02, 0.02, 0.02, 0.02, 0.06, 0.14, 0.18, 0.06, 0.0, 0.0, 0.06, 0.14, 0.08, 0.12, 0.02, 0.04, 0.2, 0.04, 0.04, 0.02, 0.04, 0.04, 0.16, 0.02, 0.06, 0.1, 0.06, 0.04, 0.04, 0.06, 0.12, 0.02, 0.02, 0.1, 0.2, 0.08, 0.02, 0.02, 0.12, 0.1, 0.12, 0.16, 0.12, 0.36, 0.1, 0.04, 0.12, 0.08, 0.14, 0.06, 0.08, 0.06, 0.08, 0.08, 0.12, 0.02, 0.02, 0.24, 0.14, 0.14], 0.1: [0.24, 0.02, 0.02, 0.1, 0.08, 0.1, 0.24, 0.16, 0.12, 0.04, 0.12, 0.1, 0.18, 0.08, 0.26, 0.24, 0.0, 0.02, 0.12, 0.0, 0.08, 0.08, 0.06, 0.02, 0.02, 0.08, 0.08, 0.18, 0.04, 0.1, 0.08, 0.0, 0.06, 0.08, 0.0, 0.0, 0.18, 0.12, 0.08, 0.24, 0.08, 0.04, 0.06, 0.08, 0.0, 0.2, 0.1, 0.1, 0.14, 0.06, 0.04, 0.06, 0.12, 0.1, 0.08, 0.22, 0.16, 0.02, 0.04, 0.0, 0.12, 0.06, 0.1, 0.0, 0.06, 0.04, 0.04, 0.0, 0.2, 0.02, 0.18, 0.02, 0.12, 0.06, 0.04, 0.02, 0.04, 0.18, 0.18, 0.02, 0.18, 0.28, 0.3, 0.06, 0.0, 0.08, 0.22, 0.16, 0.02, 0.08, 0.0, 0.1, 0.02, 0.16, 0.06, 0.02, 0.06, 0.02, 0.1, 0.06], 0.2: [0.02, 0.0, 0.02, 0.06, 0.08, 0.08, 0.06, 0.14, 0.08, 0.1, 0.0, 0.02, 0.16, 0.08, 0.18, 0.28, 0.18, 0.28, 0.26, 0.06, 0.12, 0.28, 0.06, 0.02, 0.2, 0.0, 0.14, 0.14, 0.14, 0.14, 0.08, 0.1, 0.12, 0.1, 0.16, 0.14, 0.14, 0.02, 0.2, 0.06, 0.14, 0.06, 0.28, 0.14, 0.26, 0.1, 0.36, 0.06, 0.04, 0.0, 0.1, 0.1, 0.04, 0.2, 0.1, 0.08, 0.16, 0.2, 0.0, 0.02, 0.18, 0.02, 0.02, 0.16, 0.0, 0.0, 0.04, 0.4, 0.14, 0.04, 0.16, 0.3, 0.28, 0.06, 0.2, 0.16, 0.1, 0.08, 0.08, 0.06, 0.18, 0.3, 0.24, 0.14, 0.22, 0.04, 0.02, 0.14, 0.12, 0.18, 0.08, 0.16, 0.0, 0.06, 0.06, 0.02, 0.1, 0.04, 0.1, 0.06], 0.3: [0.04, 0.0, 0.1, 0.22, 0.14, 0.32, 0.02, 0.38, 0.2, 0.36, 0.2, 0.6, 0.04, 0.0, 0.1, 0.08, 0.32, 0.2, 0.1, 0.02, 0.26, 0.1, 0.36, 0.06, 0.42, 0.16, 0.3, 0.28, 0.22, 0.04, 0.18, 0.18, 0.22, 0.24, 0.24, 0.32, 0.14, 0.44, 0.12, 0.28, 0.36, 0.16, 0.12, 0.02, 0.28, 0.32, 0.14, 0.16, 0.4, 0.02, 0.22, 0.16, 0.08, 0.1, 0.46, 0.02, 0.04, 0.14, 0.24, 0.16, 0.12, 0.22, 0.22, 0.04, 0.42, 0.34, 0.34, 0.16, 0.02, 0.1, 0.02, 0.2, 0.14, 0.16, 0.06, 0.26, 0.08, 0.36, 0.34, 0.38, 0.24, 0.46, 0.2, 0.1, 0.1, 0.24, 0.06, 0.06, 0.14, 0.02, 0.22, 0.1, 0.14, 0.48, 0.22, 0.36, 0.04, 0.06, 0.18, 0.04], 0.4: [0.06, 0.24, 0.38, 0.08, 0.52, 0.6, 0.76, 0.08, 0.12, 0.64, 0.58, 0.1, 0.38, 0.34, 0.58, 0.66, 0.22, 0.38, 0.78, 0.22, 0.64, 0.26, 0.72, 0.9, 0.08, 0.46, 0.3, 0.04, 0.74, 0.3, 0.24, 0.1, 0.48, 0.62, 0.38, 0.42, 0.26, 0.0, 0.12, 0.06, 0.16, 0.32, 0.78, 0.22, 0.6, 0.44, 0.62, 0.52, 0.1, 0.04, 0.42, 0.44, 0.58, 0.22, 0.04, 0.2, 0.58, 0.46, 0.52, 0.4, 0.26, 0.24, 0.68, 0.3, 0.62, 0.52, 0.02, 0.26, 0.12, 0.82, 0.08, 0.42, 0.0, 0.2, 0.2, 0.36, 0.16, 0.1, 0.22, 0.32, 0.7, 0.22, 0.56, 0.82, 0.26, 0.18, 0.4, 0.02, 0.34, 0.26, 0.48, 0.6, 0.22, 0.1, 0.66, 0.34, 0.34, 0.36, 0.74, 0.44], 0.5: [0.68, 0.76, 0.74, 0.26, 0.9, 0.92, 0.42, 0.2, 0.76, 0.7, 0.7, 0.48, 0.9, 0.88, 0.76, 0.92, 0.32, 0.62, 0.86, 0.22, 0.66, 0.62, 0.58, 0.78, 0.84, 0.82, 0.74, 0.66, 0.3, 0.78, 0.82, 0.54, 0.3, 0.92, 0.88, 0.86, 0.44, 0.82, 0.76, 0.82, 0.74, 0.94, 0.8, 0.68, 0.68, 0.74, 0.44, 0.6, 0.64, 0.62, 0.5, 0.76, 0.9, 0.76, 0.76, 0.78, 0.82, 0.86, 0.54, 0.3, 0.88, 0.06, 0.04, 0.78, 0.88, 0.68, 0.8, 0.62, 0.56, 0.7, 0.68, 0.7, 0.82, 0.18, 0.32, 0.72, 0.64, 0.78, 0.94, 0.7, 0.64, 0.78, 0.68, 0.86, 0.86, 0.88, 0.7, 0.52, 0.82, 0.84, 0.26, 0.94, 0.46, 0.84, 0.5, 0.12, 0.88, 0.6, 0.68, 0.7]}\n"
     ]
    }
   ],
   "source": [
    "def calcular_magnetismo(k, configuraciones):\n",
    "    magnetismo_list = {}\n",
    "    for beta in beta_list:\n",
    "        magnetismo_list[beta] = []\n",
    "        for config in configuraciones[beta]:\n",
    "            magnetismo_list[beta].append(np.abs(np.sum(config)/(k**2)))\n",
    "    return magnetismo_list\n",
    "\n",
    "magnetismo_mcmc_list = {} # Lista por numero de pasos de Magnetismo en mustras de mcmc\n",
    "for step in steps_list:\n",
    "    magnetismo_mcmc_list[step] = calcular_magnetismo(k, configuraciones_mcmc[step]) # Magnetismo muestras mcmc\n",
    "\n",
    "magnetismo_pw = calcular_magnetismo(k, configuraciones_pw) # Magnetismo muestras pw\n",
    "\n",
    "for step in steps_list:\n",
    "    print(f\"Magnetismo usando MCMC con X = {step}: {magnetismo_mcmc_list[step]}\")\n",
    "\n",
    "print(f\"Magnetismo usando PW: {magnetismo_pw}\")"
   ]
  },
  {
   "cell_type": "markdown",
   "metadata": {},
   "source": [
    "Ahora calculamos una aproximacion dada con estas muestras de el valor esperado de este magnetismo usando el siguiente resultado:"
   ]
  },
  {
   "cell_type": "markdown",
   "metadata": {},
   "source": [
    "$$E[M(\\eta)] \\approx \\frac{1}{X} \\sum_{k=1}^{X}M(\\eta_{k})$$"
   ]
  },
  {
   "cell_type": "markdown",
   "metadata": {},
   "source": [
    "donde $X$ es el numero de muestras y que en nuestro caso es $100$. Así, creamos la siguiente funcion:"
   ]
  },
  {
   "cell_type": "code",
   "execution_count": 11,
   "metadata": {},
   "outputs": [
    {
     "name": "stdout",
     "output_type": "stream",
     "text": [
      "Valor esperado usando MCMC con X = 1000:\n",
      "{0: 0.0822,\n",
      " 0.1: 0.1014,\n",
      " 0.2: 0.12160000000000001,\n",
      " 0.3: 0.19120000000000004,\n",
      " 0.4: 0.27980000000000005,\n",
      " 0.5: 0.3414}\n",
      "Valor esperado usando MCMC con X = 10000:\n",
      "{0: 0.08499999999999998,\n",
      " 0.1: 0.0926,\n",
      " 0.2: 0.1386,\n",
      " 0.3: 0.17919999999999997,\n",
      " 0.4: 0.3264,\n",
      " 0.5: 0.629}\n",
      "Valor esperado usando MCMC con X = 100000:\n",
      "{0: 0.08979999999999999,\n",
      " 0.1: 0.0924,\n",
      " 0.2: 0.11460000000000001,\n",
      " 0.3: 0.1882,\n",
      " 0.4: 0.2806,\n",
      " 0.5: 0.61}\n",
      "Valor esperado usando PW: \n",
      "{0: 0.08200000000000002,\n",
      " 0.1: 0.09,\n",
      " 0.2: 0.1168,\n",
      " 0.3: 0.19039999999999999,\n",
      " 0.4: 0.36440000000000006,\n",
      " 0.5: 0.6684}\n"
     ]
    }
   ],
   "source": [
    "def valor_esperado_aproximado(magnetismo, n_muestras):\n",
    "    vesperado_list = {}\n",
    "    for beta in beta_list:\n",
    "        vesperado_list[beta] = np.sum(magnetismo[beta])/n_muestras\n",
    "    \n",
    "    return vesperado_list\n",
    "\n",
    "vesperado_mcmc_list = {} # Lista por numero de pasos de valor esperado en mustras de mcmc\n",
    "for step in steps_list:\n",
    "    vesperado_mcmc_list[step] = valor_esperado_aproximado(magnetismo_mcmc_list[step], n_muestras) # valor esperado muestras mcmc\n",
    "\n",
    "vesperado_pw = valor_esperado_aproximado(magnetismo_pw, n_muestras) # valor esperado muestras pw\n",
    "\n",
    "for step in steps_list:\n",
    "    print(f\"Valor esperado usando MCMC con X = {step}:\")\n",
    "    pprint(vesperado_mcmc_list[step])\n",
    "\n",
    "print(\"Valor esperado usando PW: \")\n",
    "pprint(vesperado_pw)\n"
   ]
  },
  {
   "cell_type": "markdown",
   "metadata": {},
   "source": [
    "## Reporte"
   ]
  },
  {
   "cell_type": "markdown",
   "metadata": {},
   "source": [
    "### Coalescencia\n",
    "\n",
    "Tiempos de Coalescencia en Propp-Wilson para cada beta"
   ]
  },
  {
   "cell_type": "code",
   "execution_count": 12,
   "metadata": {},
   "outputs": [
    {
     "data": {
      "image/png": "[encoded data removed]",
      "text/plain": [
       "<Figure size 640x480 with 1 Axes>"
      ]
     },
     "metadata": {},
     "output_type": "display_data"
    }
   ],
   "source": [
    "fig, ax = plt.subplots()\n",
    "\n",
    "ax.boxplot([tiempos_coalescencia[beta] for beta in beta_list], labels=beta_list)\n",
    "\n",
    "ax.set_title('Tiempos de Coalescencia para cada beta')\n",
    "ax.set_xlabel('Valores de beta')\n",
    "ax.set_ylabel('Tiempo de Coalescencia')\n",
    "\n",
    "plt.show()"
   ]
  },
  {
   "cell_type": "code",
   "execution_count": 13,
   "metadata": {},
   "outputs": [
    {
     "name": "stdout",
     "output_type": "stream",
     "text": [
      "{0: [2047, 1023, 2047, 1023, 2047, 1023, 2047, 1023, 1023, 1023, 1023, 1023, 1023, 1023, 2047, 2047, 2047, 1023, 1023, 1023, 1023, 1023, 2047, 1023, 1023, 2047, 1023, 1023, 2047, 2047, 2047, 2047, 1023, 1023, 2047, 1023, 2047, 2047, 1023, 2047, 1023, 1023, 1023, 1023, 2047, 1023, 1023, 2047, 1023, 2047, 1023, 1023, 1023, 2047, 1023, 1023, 2047, 2047, 2047, 2047, 1023, 2047, 2047, 2047, 1023, 1023, 1023, 2047, 2047, 1023, 2047, 2047, 1023, 1023, 2047, 1023, 1023, 2047, 1023, 1023, 1023, 1023, 1023, 1023, 1023, 1023, 1023, 1023, 2047, 1023, 2047, 2047, 2047, 1023, 2047, 1023, 1023, 1023, 1023, 2047], 0.1: [2047, 2047, 2047, 2047, 2047, 2047, 2047, 2047, 2047, 1023, 1023, 1023, 2047, 1023, 2047, 2047, 1023, 1023, 2047, 2047, 1023, 1023, 1023, 2047, 2047, 1023, 1023, 1023, 1023, 2047, 2047, 2047, 2047, 2047, 1023, 2047, 1023, 1023, 2047, 2047, 2047, 1023, 2047, 2047, 2047, 2047, 1023, 2047, 1023, 2047, 2047, 2047, 2047, 2047, 2047, 2047, 1023, 2047, 1023, 2047, 2047, 2047, 2047, 2047, 2047, 2047, 2047, 2047, 2047, 1023, 1023, 2047, 2047, 1023, 1023, 1023, 1023, 2047, 2047, 2047, 2047, 2047, 1023, 1023, 1023, 1023, 1023, 1023, 2047, 2047, 2047, 2047, 1023, 1023, 2047, 1023, 2047, 2047, 2047, 1023], 0.2: [2047, 2047, 2047, 2047, 2047, 2047, 4095, 4095, 4095, 2047, 2047, 2047, 2047, 2047, 2047, 2047, 2047, 2047, 2047, 4095, 2047, 2047, 2047, 2047, 2047, 2047, 2047, 2047, 4095, 2047, 2047, 2047, 2047, 2047, 2047, 2047, 2047, 2047, 2047, 2047, 4095, 2047, 2047, 2047, 2047, 4095, 4095, 2047, 4095, 2047, 2047, 2047, 2047, 2047, 2047, 2047, 4095, 2047, 4095, 2047, 2047, 2047, 2047, 2047, 2047, 2047, 2047, 4095, 2047, 2047, 2047, 2047, 2047, 2047, 2047, 2047, 2047, 2047, 2047, 1023, 2047, 2047, 2047, 2047, 2047, 2047, 4095, 4095, 4095, 2047, 2047, 4095, 2047, 2047, 2047, 1023, 2047, 2047, 2047, 2047], 0.3: [16383, 4095, 4095, 8191, 4095, 2047, 8191, 4095, 4095, 8191, 4095, 4095, 2047, 4095, 2047, 4095, 8191, 8191, 2047, 4095, 2047, 4095, 4095, 4095, 4095, 4095, 4095, 4095, 4095, 4095, 4095, 8191, 4095, 4095, 4095, 4095, 4095, 4095, 4095, 2047, 4095, 4095, 4095, 8191, 4095, 4095, 4095, 4095, 8191, 8191, 8191, 4095, 8191, 4095, 4095, 4095, 4095, 4095, 8191, 2047, 4095, 4095, 4095, 4095, 4095, 4095, 4095, 4095, 4095, 4095, 4095, 2047, 4095, 4095, 4095, 4095, 4095, 4095, 8191, 2047, 2047, 4095, 8191, 8191, 4095, 4095, 8191, 2047, 2047, 4095, 4095, 4095, 4095, 4095, 4095, 8191, 4095, 8191, 4095, 4095], 0.4: [8191, 8191, 16383, 8191, 8191, 16383, 8191, 16383, 16383, 8191, 8191, 8191, 8191, 8191, 8191, 8191, 16383, 8191, 8191, 8191, 16383, 8191, 8191, 16383, 8191, 16383, 8191, 8191, 16383, 8191, 16383, 16383, 4095, 16383, 8191, 16383, 4095, 16383, 16383, 16383, 8191, 16383, 16383, 16383, 8191, 8191, 16383, 16383, 32767, 16383, 16383, 8191, 32767, 16383, 8191, 16383, 8191, 16383, 8191, 8191, 8191, 16383, 32767, 8191, 16383, 16383, 8191, 16383, 16383, 8191, 8191, 8191, 8191, 8191, 8191, 16383, 16383, 16383, 16383, 32767, 4095, 32767, 8191, 4095, 8191, 16383, 8191, 8191, 8191, 8191, 16383, 4095, 32767, 8191, 16383, 8191, 8191, 16383, 8191, 16383], 0.5: [262143, 65535, 65535, 32767, 8191, 16383, 65535, 65535, 131071, 65535, 65535, 65535, 32767, 262143, 16383, 131071, 131071, 131071, 16383, 16383, 32767, 131071, 131071, 32767, 32767, 16383, 16383, 32767, 8191, 16383, 32767, 262143, 16383, 32767, 32767, 32767, 65535, 16383, 16383, 131071, 131071, 524287, 65535, 65535, 32767, 262143, 131071, 32767, 131071, 32767, 131071, 32767, 65535, 16383, 32767, 65535, 131071, 65535, 131071, 524287, 524287, 16383, 32767, 65535, 131071, 131071, 32767, 131071, 262143, 131071, 65535, 32767, 262143, 16383, 131071, 131071, 65535, 65535, 32767, 262143, 65535, 16383, 131071, 131071, 32767, 16383, 65535, 262143, 32767, 16383, 65535, 32767, 16383, 65535, 65535, 65535, 65535, 262143, 32767, 32767]}\n"
     ]
    }
   ],
   "source": [
    "print(tiempos_coalescencia)"
   ]
  },
  {
   "cell_type": "markdown",
   "metadata": {},
   "source": [
    "### Comparacion estimativas"
   ]
  },
  {
   "cell_type": "code",
   "execution_count": 14,
   "metadata": {},
   "outputs": [
    {
     "data": {
      "image/png": "[encoded data removed]",
      "text/plain": [
       "<Figure size 1000x600 with 1 Axes>"
      ]
     },
     "metadata": {},
     "output_type": "display_data"
    }
   ],
   "source": [
    "plt.figure(figsize=(10, 6))\n",
    "\n",
    "marker_list = ['o', 's', '^', 'd']\n",
    "label_list = [\n",
    "        \"MCMC X = 1000\",\n",
    "        \"MCMC X = 10000\",\n",
    "        \"MCMC X = 100000\",\n",
    "        \"PW\"\n",
    "]\n",
    "\n",
    "resultados = {step: [] for step in steps_list}\n",
    "resultados['pw'] = []\n",
    "for beta in beta_list:\n",
    "    for step in steps_list:\n",
    "        resultados[step].append(vesperado_mcmc_list[step][beta])\n",
    "    resultados['pw'].append(vesperado_mcmc_list[step][beta])\n",
    "\n",
    "b = 0\n",
    "for key in resultados:\n",
    "    plt.plot(beta_list, resultados[key], marker=marker_list[b], label=label_list[b])\n",
    "    b += 1\n",
    "\n",
    "plt.title('Aproximacion valor esperado segun beta asignado')\n",
    "plt.xlabel('Valor de beta')\n",
    "plt.ylabel('Valor esperado')\n",
    "\n",
    "plt.legend()\n",
    "\n",
    "plt.grid(True)\n",
    "plt.show()\n"
   ]
  },
  {
   "cell_type": "code",
   "execution_count": null,
   "metadata": {},
   "outputs": [],
   "source": []
  }
 ],
 "metadata": {
  "kernelspec": {
   "display_name": "myenv",
   "language": "python",
   "name": "python3"
  },
  "language_info": {
   "codemirror_mode": {
    "name": "ipython",
    "version": 3
   },
   "file_extension": ".py",
   "mimetype": "text/x-python",
   "name": "python",
   "nbconvert_exporter": "python",
   "pygments_lexer": "ipython3",
   "version": "3.10.6"
  }
 },
 "nbformat": 4,
 "nbformat_minor": 2
}
