{
 "cells": [
  {
   "cell_type": "markdown",
   "metadata": {},
   "source": [
    "# Tarea 3 Cadenas de Markov\n",
    "\n",
    "\n",
    "Autores: \n",
    "- Daniel Alejandro García Hernández\n",
    "- David Camilo Cortes Salazar\n",
    "\n",
    "En este notebook se encuentra una implementación de algunos resultados vistos en clase para el Gibbs Sampler aplicado a Hard-core y q-colorings. \n",
    "\n",
    "Las librerías necesarias para ejectuar el código son:"
   ]
  },
  {
   "cell_type": "code",
   "execution_count": 1,
   "metadata": {
    "ExecuteTime": {
     "end_time": "2024-09-08T00:21:45.791233Z",
     "start_time": "2024-09-08T00:21:45.317139Z"
    }
   },
   "outputs": [],
   "source": [
    "import numpy as np\n",
    "import random\n",
    "import matplotlib.pyplot as plt\n",
    "from pprint import pprint"
   ]
  },
  {
   "cell_type": "markdown",
   "metadata": {},
   "source": [
    "# Modelo de Ising  usando MCMC y Algoritmo de Propp - Wilson"
   ]
  },
  {
   "cell_type": "markdown",
   "metadata": {},
   "source": [
    "### Muestras del modelo de Ising con inverso de temperatura usando MCMC\n",
    "\n",
    "Iniciamos creando la grilla del módelo. Para esto, creamos una matriz $kxk$ de dimensión 2, apoyándonos en la libreria Numpy. Las dimensiones del grafo cumplen $10\\leq k \\leq 20$."
   ]
  },
  {
   "cell_type": "markdown",
   "metadata": {},
   "source": [
    "Por otro lado, la energía del modelo, bajo campo libre y sin interacciones de orden superior, viene dada por el Hamiltoniano $H(\\eta)$, que se expresa como:"
   ]
  },
  {
   "cell_type": "markdown",
   "metadata": {},
   "source": [
    "$$H(\\eta)=-\\sum_{x\\thicksim y}\\eta_{x}\\eta_{y}$$"
   ]
  },
  {
   "cell_type": "markdown",
   "metadata": {},
   "source": [
    "D0onde $\\eta$ es la configuracion actual del sistema y $\\eta_{x}$, $\\eta_{y}$ son la posicion de dos nodos de $\\eta$ tal que $x$ y $y$ estan conectados.\n",
    "\n",
    "Con esto en mente creamos una funcion que calcula la energia del sistema dada una configuracion $\\eta$ del modelo."
   ]
  },
  {
   "cell_type": "code",
   "execution_count": 2,
   "metadata": {
    "ExecuteTime": {
     "end_time": "2024-09-08T00:21:46.562674Z",
     "start_time": "2024-09-08T00:21:46.559045Z"
    }
   },
   "outputs": [
    {
     "name": "stdout",
     "output_type": "stream",
     "text": [
      "Grilla del modelo de Ising:\n",
      "[[-1  1  1 -1]\n",
      " [ 1  1 -1 -1]\n",
      " [ 1  1  1  1]\n",
      " [-1  1  1  1]]\n"
     ]
    }
   ],
   "source": [
    "def calcular_energia(G):\n",
    "    \"\"\"\n",
    "    Calcula la energia de la configuracion dada. Primero se suman enlaces horizontales, luego verticales\n",
    "    \"\"\" \n",
    "    energia = 0\n",
    "    k = len(G)\n",
    "    \n",
    "    ## Suma sobre enlaces horizontales\n",
    "    for ii in range(k):\n",
    "        for jj in range(k-1):\n",
    "            energia += G[ii,jj] * G[ii,jj+1]\n",
    "            \n",
    "    ## Suma sobre enlaces verticales\n",
    "    for ii in range(k-1):\n",
    "        for jj in range(k):\n",
    "            energia += G[ii,jj] * G[ii+1,jj]\n",
    "\n",
    "    return -1 * energia\n",
    "\n",
    "\n",
    "G = np.random.choice([-1, 1], size=(4, 4))\n",
    "print(\"Grilla del modelo de Ising:\")\n",
    "print(G)"
   ]
  },
  {
   "cell_type": "markdown",
   "metadata": {},
   "source": [
    "Ahora usemos un Gibbs sampler para implementar el método de Montecarlo en nuestro problema. Este funcionará de la siguiente manera:\n",
    "\n",
    "- Seleccione un vertice al azar $\\~{x}$ de la configuración actual $\\eta$.\n",
    "- Cambie el valor del vertice escogido. Con esto se obtiene una nueva configuración $\\hat{\\eta}$ del sistema.\n",
    "- Calcule la diferencia de energía de la configuración $\\eta$.\n",
    "- Calcule la probabilidad de cambio de $\\eta$ utilizando la probabilidad de distribución del vértice $\\~{x}$: "
   ]
  },
  {
   "cell_type": "markdown",
   "metadata": {},
   "source": [
    "$$ \\Delta \\pi = \\frac{\\exp^{2\\beta (k_{+}(\\~x, \\eta)-k_{-}(\\~x, \\eta))}}{\\exp^{2\\beta (k_{+}(\\~x, \\eta)-k_{-}(\\~x, \\eta))} + 1} $$"
   ]
  },
  {
   "cell_type": "markdown",
   "metadata": {},
   "source": [
    "- Genere un numero aleatorio uniforme $u$ entre 0 y 1\n",
    "- Si $u < \\Delta \\pi$, acepta la nueva configuracion. Si no, mantenemos con la configuracion $\\eta$.\n",
    "- Repetimos el algoritmo hasta completar el número de iteraciones propuestas."
   ]
  },
  {
   "cell_type": "markdown",
   "metadata": {},
   "source": [
    "Note que el calculo de la energía deja de aparecer directamenete en el algoritmo, y aparece la diferencia entre la acumulación de cargas positivas y negativas alrededor de un vertice dado.\n",
    "\n",
    "A continuación, creamos una nueva función para el cálculo de esta acumulación y otra para la probabiliadad de cambio:"
   ]
  },
  {
   "cell_type": "code",
   "execution_count": 3,
   "metadata": {
    "ExecuteTime": {
     "end_time": "2024-09-08T00:21:48.714975Z",
     "start_time": "2024-09-08T00:21:48.712127Z"
    }
   },
   "outputs": [],
   "source": [
    "def calcular_factor(G, x, y):\n",
    "    \"\"\"\n",
    "    Calcula la diferencia de la energia al cambiar el valor de spín en un nodo (electrón) dado\n",
    "    \"\"\"\n",
    "    energia = 0\n",
    "    k = len(G)\n",
    "    \n",
    "    if x != 0:\n",
    "        energia += G[x-1, y]\n",
    "    if x != k-1:\n",
    "        energia += G[x+1, y]\n",
    "    if y != 0:\n",
    "        energia += G[x, y-1]\n",
    "    if y != k-1:\n",
    "        energia += G[x, y+1]\n",
    "    return energia\n",
    "\n",
    "\n",
    "def calcular_probabilidad(beta, factor):\n",
    "    \"\"\"\n",
    "    Calcula la probabilidad de cambio de la nueva configuración\n",
    "    \"\"\"\n",
    "    e = np.exp(2 * beta * factor)\n",
    "    return e / (e+1)"
   ]
  },
  {
   "cell_type": "markdown",
   "metadata": {},
   "source": [
    "Y con esto creamos el Gibbs sampler para nuestro modelo:"
   ]
  },
  {
   "cell_type": "code",
   "execution_count": 4,
   "metadata": {
    "ExecuteTime": {
     "end_time": "2024-09-08T00:21:49.726644Z",
     "start_time": "2024-09-08T00:21:49.723825Z"
    }
   },
   "outputs": [],
   "source": [
    "def gibbs_sampler_mcmc(G, beta, iteraciones):\n",
    "    \n",
    "    k = len(G)\n",
    "    \n",
    "    for _ in range(iteraciones):\n",
    "        \n",
    "        # Selecciona spin aleatorio\n",
    "        x = random.randint(0, k-1)\n",
    "        y = random.randint(0, k-1)\n",
    "\n",
    "        # Calcula la energia de la configuracion actual y siguiente segun el spin dado\n",
    "        diferencia_energia = calcular_factor(G, x, y)\n",
    "        \n",
    "        # Halla la probabilidad de transición\n",
    "        prob_cambio = calcular_probabilidad(beta, diferencia_energia)\n",
    "\n",
    "        # Decidir si hacer o no transición\n",
    "        if np.random.rand() < prob_cambio:\n",
    "            G[x, y] = 1 \n",
    "        else: \n",
    "            G[x, y] = -1\n",
    "    \n",
    "    return G"
   ]
  },
  {
   "cell_type": "markdown",
   "metadata": {},
   "source": [
    "Ahora solo nos queda probar el algoritmo con los valores de beta y pasos del gibbs sampler que definimos al inicio para obtener el numero de muestras deseadas.\n",
    "\n",
    "Adicionalmente, creamos una lista con los $\\beta$ que vamos a evaluar y otra con los diferentes números de pasos con los que ejecturemos el algoritmo."
   ]
  },
  {
   "cell_type": "code",
   "execution_count": 5,
   "metadata": {
    "ExecuteTime": {
     "end_time": "2024-09-08T00:28:37.284174Z",
     "start_time": "2024-09-08T00:21:50.861863Z"
    }
   },
   "outputs": [
    {
     "name": "stdout",
     "output_type": "stream",
     "text": [
      "Guardado 100 muestras con X = 1000 para beta = 0\n",
      "Guardado 100 muestras con X = 1000 para beta = 0.1\n",
      "Guardado 100 muestras con X = 1000 para beta = 0.2\n",
      "Guardado 100 muestras con X = 1000 para beta = 0.3\n",
      "Guardado 100 muestras con X = 1000 para beta = 0.4\n",
      "Guardado 100 muestras con X = 1000 para beta = 0.5\n",
      "Guardado 100 muestras con X = 1000 para beta = 0.6\n",
      "Guardado 100 muestras con X = 1000 para beta = 0.7\n",
      "Guardado 100 muestras con X = 1000 para beta = 0.8\n",
      "Guardado 100 muestras con X = 1000 para beta = 0.9\n",
      "Guardado 100 muestras con X = 1000 para beta = 1\n",
      "Guardado 100 muestras con X = 10000 para beta = 0\n",
      "Guardado 100 muestras con X = 10000 para beta = 0.1\n",
      "Guardado 100 muestras con X = 10000 para beta = 0.2\n",
      "Guardado 100 muestras con X = 10000 para beta = 0.3\n",
      "Guardado 100 muestras con X = 10000 para beta = 0.4\n",
      "Guardado 100 muestras con X = 10000 para beta = 0.5\n",
      "Guardado 100 muestras con X = 10000 para beta = 0.6\n",
      "Guardado 100 muestras con X = 10000 para beta = 0.7\n",
      "Guardado 100 muestras con X = 10000 para beta = 0.8\n",
      "Guardado 100 muestras con X = 10000 para beta = 0.9\n",
      "Guardado 100 muestras con X = 10000 para beta = 1\n",
      "Guardado 100 muestras con X = 100000 para beta = 0\n",
      "Guardado 100 muestras con X = 100000 para beta = 0.1\n",
      "Guardado 100 muestras con X = 100000 para beta = 0.2\n",
      "Guardado 100 muestras con X = 100000 para beta = 0.3\n",
      "Guardado 100 muestras con X = 100000 para beta = 0.4\n",
      "Guardado 100 muestras con X = 100000 para beta = 0.5\n",
      "Guardado 100 muestras con X = 100000 para beta = 0.6\n",
      "Guardado 100 muestras con X = 100000 para beta = 0.7\n",
      "Guardado 100 muestras con X = 100000 para beta = 0.8\n",
      "Guardado 100 muestras con X = 100000 para beta = 0.9\n",
      "Guardado 100 muestras con X = 100000 para beta = 1\n"
     ]
    }
   ],
   "source": [
    "configuraciones_mcmc = {}\n",
    "\n",
    "k = 10\n",
    "beta_list_mcmcm = [0, 0.1, 0.2, 0.3, 0.4, 0.5, 0.6, 0.7, 0.8, 0.9, 1]\n",
    "steps_list = [10**3, 10**4, 10**5]\n",
    "n_muestras = 100\n",
    "\n",
    "\n",
    "\n",
    "# Loop principal\n",
    "for step in steps_list: # Iterar sobre los posibles números de pasos\n",
    "    \n",
    "    configuraciones_mcmc[step] = {key: [] for key in beta_list_mcmcm}\n",
    "    \n",
    "    for beta in beta_list_mcmcm: # Iterar sobre los posibles beta\n",
    "    \n",
    "        for _ in range(n_muestras): # Numero de muestras a guardar\n",
    "            G = np.random.choice([-1, 1], size=(k, k))  # Configuración inicial aleatoria\n",
    "            configuraciones_mcmc[step][beta].append(gibbs_sampler_mcmc(G, beta, step).copy())  # Guarda la configuracion final\n",
    "        print(f\"Guardado {n_muestras} muestras con X = {step} para beta = {beta}\")"
   ]
  },
  {
   "cell_type": "code",
   "execution_count": 8,
   "metadata": {
    "ExecuteTime": {
     "end_time": "2024-09-08T00:30:04.053830Z",
     "start_time": "2024-09-08T00:30:04.048849Z"
    }
   },
   "outputs": [
    {
     "name": "stdout",
     "output_type": "stream",
     "text": [
      "\n",
      "Visualizacion de algunas de las configuraciones de las muestras:\n",
      "\n",
      "Beta = 0\n",
      "array([[ 1,  1, -1,  1, -1,  1, -1,  1,  1,  1],\n",
      "       [ 1,  1,  1, -1, -1,  1,  1,  1, -1, -1],\n",
      "       [-1,  1,  1, -1, -1,  1, -1, -1,  1, -1],\n",
      "       [-1,  1, -1, -1,  1,  1, -1, -1, -1, -1],\n",
      "       [ 1, -1, -1,  1, -1, -1, -1,  1,  1,  1],\n",
      "       [ 1, -1, -1,  1,  1,  1, -1,  1,  1, -1],\n",
      "       [ 1, -1,  1,  1, -1, -1,  1, -1, -1, -1],\n",
      "       [-1,  1, -1, -1,  1,  1,  1,  1, -1,  1],\n",
      "       [ 1,  1, -1,  1,  1, -1, -1,  1,  1, -1],\n",
      "       [ 1, -1, -1, -1,  1, -1, -1,  1,  1,  1]])\n",
      "\n",
      "Beta = 1\n",
      "array([[-1, -1, -1, -1, -1, -1, -1, -1, -1, -1],\n",
      "       [-1, -1, -1, -1, -1, -1, -1, -1, -1, -1],\n",
      "       [-1, -1, -1, -1, -1, -1, -1, -1, -1, -1],\n",
      "       [-1, -1, -1, -1, -1, -1, -1, -1, -1, -1],\n",
      "       [-1, -1, -1, -1, -1, -1, -1, -1, -1, -1],\n",
      "       [-1, -1, -1, -1, -1, -1, -1, -1, -1, -1],\n",
      "       [-1, -1, -1, -1, -1, -1, -1, -1, -1, -1],\n",
      "       [-1, -1, -1, -1, -1, -1, -1, -1, -1, -1],\n",
      "       [-1, -1, -1, -1, -1, -1, -1, -1, -1, -1],\n",
      "       [-1, -1, -1, -1, -1, -1, -1, -1, -1, -1]])\n"
     ]
    }
   ],
   "source": [
    "print(\"\\nVisualizacion de algunas de las configuraciones de las muestras:\\n\")\n",
    "print(\"Beta = 0\")\n",
    "pprint(configuraciones_mcmc[100000][0][3])\n",
    "\n",
    "print()\n",
    "print(\"Beta = 1\")\n",
    "pprint(configuraciones_mcmc[100000][1][2])"
   ]
  },
  {
   "cell_type": "markdown",
   "metadata": {},
   "source": [
    "Cuando imprimimos algunas de estas configuraciones, vemos que:\n",
    "\n",
    "- Para $\\beta = 0$ (altas temperaturas), la organización de spins parece ser de tipo i.i.d.: aproximadamente la mitad está en estado +1, y otra mitad en estado -1, sin ningún tipo de preferencia espacial.\n",
    "- Para $\\beta = 1$ (bajas temperaturas), la organización de spins es a) todos en estado +1, o b) todos en estado -1.\n",
    "\n",
    "Esto está de acuerdo con lo predicho por la teoría."
   ]
  },
  {
   "cell_type": "markdown",
   "metadata": {},
   "source": [
    "---\n",
    "### Muestras del modelo de Ising con inverso de temperatura usando Prop-Wilson\n",
    "\n",
    "Usaremos los mismos valores tomados anteriormente para hacer una comparación mas adelante entre las muestras obtenidas con el algoritmo de de Propp-Wilson y MCMC.\n",
    "\n",
    "Las funciones de acumulación y probabilidad son las mismas, aquí cambia el método de aplicar el Gibbs sampler. Usaremos sadwiching para la implementacion de el algoritmo de Propp-Wilson sobre las cofiguraciones $\\eta_{min}$ (Todos -1) y $\\eta_{max}$ (Todos 1). Y para esto, nos hace falta:\n",
    "\n",
    "- Una secuencia creciente de números enteros positivos: $\\; N = \\{N_{1}, N_{2}, ... \\}$.\n",
    "- Una secuencia de números aleatorios uniformemente distribuidos en $[0, 1]$: $\\; U = \\{U_{0}, U_{-1}, ... \\}$.\n",
    "- Dos secuencias de coordenadas aleatorias uniformemente distribuidos en $[0, k-1]$: $\\; \\hat{U} = \\{ \\hat{U}_{0}, \\hat{U}_{-1}, ... \\}\\;$ y $ \\; \\hat{U} = \\{ \\hat{U}^{'}_{0}, \\hat{U}^{'}_{-1}, ... \\}$.\n",
    "\n",
    "La secuencia $N$ nos servira para seleccionar los elementos de las sucesiones aleatorias. Tomaremos $N_{n} = 2^{n}$. \n",
    "\n",
    "La secuencia $U$ dicatará los valores a comparar con las probabilidades de cambio de los sistemas $\\eta_{min}$ y $\\eta_{max}$. \n",
    "\n",
    "Las secuencias $\\hat{U}$ y $\\hat{U'}$ serán las encargadas de seleccionar las cordenadas $\\hat{x}$, $\\hat{y}$ de los vértices a evaluar.\n",
    "\n",
    "Para esto, creemos la siguiente clase:\n"
   ]
  },
  {
   "cell_type": "code",
   "execution_count": 9,
   "metadata": {
    "ExecuteTime": {
     "end_time": "2024-09-08T00:30:13.809434Z",
     "start_time": "2024-09-08T00:30:13.806535Z"
    }
   },
   "outputs": [],
   "source": [
    "class Random_sequence:\n",
    "    def __init__(self, k):\n",
    "        self.k = k\n",
    "        self.N = 0 # indice de la sucesion de numeros creciente (N)\n",
    "        self.U_float = np.zeros((0,), dtype=float)\n",
    "        self.U_int = np.zeros((0,2), dtype=int)\n",
    "\n",
    "    def update_random(self, next_N):\n",
    "        self.U_float.resize((next_N,))\n",
    "        self.U_int.resize((next_N,2))\n",
    "        self.U_float[self.N:] = np.random.random((next_N - self.N,))\n",
    "        self.U_int[self.N:] = np.random.randint(0, self.k, size=(next_N - self.N,2))\n",
    "        self.N = next_N"
   ]
  },
  {
   "cell_type": "markdown",
   "metadata": {},
   "source": [
    "Esta clase funciona nos asegura generar números aleatorios nuevos en cada paso del Gibbs sampler y seleccionar los correspondientes según la secuencia dada. Además, estos valores se guardan en los arreglos creados y nos permiten ver el registro historico de elementos aleatorios seleccionados.\n",
    "\n",
    "\n",
    "Ahora podemos crear nuestro Gibbs Sampler usando Propp-Wilson:"
   ]
  },
  {
   "cell_type": "code",
   "execution_count": 10,
   "metadata": {
    "ExecuteTime": {
     "end_time": "2024-09-08T00:30:14.672340Z",
     "start_time": "2024-09-08T00:30:14.668503Z"
    }
   },
   "outputs": [],
   "source": [
    "def gibbs_sampler_pw(k, beta):\n",
    "\n",
    "    N = 1 # indice de la sucesion de numeros creciente\n",
    "    rand_sequence = Random_sequence(k) # Clase de generacion y memoria de numeros aleatorios usados\n",
    "    rand_sequence.update_random(N) # genera primeros numeros aleatorios\n",
    "\n",
    "    #coalecencia\n",
    "    coales_time = 0\n",
    "\n",
    "    # Configuraciones extremas\n",
    "    G_max = np.ones((k, k))\n",
    "    G_min = -np.ones((k, k))\n",
    "\n",
    "    while True:\n",
    "        \n",
    "        top_size = rand_sequence.U_float.size\n",
    "        \n",
    "        for i in range(top_size):\n",
    "            coales_time += 1\n",
    "            m = top_size - i - 1 # indice de la secuencia aleatoria\n",
    "\n",
    "            x = rand_sequence.U_int[m, 0] # Numero aleatorio dado por la secuencia de enteros\n",
    "            y = rand_sequence.U_int[m, 1] # Numero aleatorio dado por la secuencia de enteros\n",
    "\n",
    "            # Sandwiching\n",
    "\n",
    "            delta_energia_min = calcular_factor(G_min, x, y)\n",
    "            delta_energia_max = calcular_factor(G_max, x, y)\n",
    "\n",
    "            prob_cambio_max = calcular_probabilidad(beta, delta_energia_max)\n",
    "            prob_cambio_min = calcular_probabilidad(beta, delta_energia_min)\n",
    "\n",
    "            rand_to_prob = rand_sequence.U_float[m] # Numero aleatorio dado por la secuencia de flotantes\n",
    "\n",
    "            # Condicion de Cambio G1\\n\",\n",
    "            if rand_to_prob < prob_cambio_max:\n",
    "                G_max[x, y] = 1 \n",
    "            else: \n",
    "                G_max[x, y] = -1\n",
    "\n",
    "            # Condicion de Cambio G2\\n\",\n",
    "            if rand_to_prob < prob_cambio_min:\n",
    "                G_min[x, y] = 1 \n",
    "            else:\n",
    "                G_min[x, y] = -1 \n",
    "\n",
    "        # Verifica coalecencia\\n\",\n",
    "        if np.array_equal(G_min, G_max):\n",
    "            return G_min, coales_time\n",
    "        else:\n",
    "            N = max(N+1, N*2) # sucesion de potencias de 2\n",
    "            rand_sequence.update_random(N) # genera nuevos numeros aleatorios\n"
   ]
  },
  {
   "cell_type": "markdown",
   "metadata": {},
   "source": [
    "Ahora generamos las muestras deseadas con los valores de beta dados. \n",
    "\n",
    "Es necesario notar que, según la nota 43 del capítulo 11 del libro de Haggstrom, el tiempo de simulación para el algoritmo de Prop-Wilson aumenta exponencialmente para valores de Beta crítico que superen el valor crítico de Onsager $\\beta_c = \\frac{1}{2}\\log(1 + \\sqrt{2}) \\approx 0.441$. Por esta razón, solo vamos tomar muestras con este algoritmo para valores de $\\beta \\le 0.6$. Experimentalmente intentamos hallar muestras para valores $\\beta > 0.6$, pero con $\\beta = 0.6$ el tiempo de ejecución fue enorme.\n",
    "\n",
    "- $\\beta = 0.1, 0.2, 0.3, 0.4$ se simulan en cuestión de pocos segundos.\n",
    "- $\\beta = 0.5$ se simula en cuestión de $\\approx 45$ segundos.\n",
    "- $\\beta = 0.6$ tomó 23 minutos.\n",
    "\n",
    "Teniendo en cuenta el aumento exponencial mencionado en el libro, no pudimos seguir simulando."
   ]
  },
  {
   "cell_type": "code",
   "execution_count": 11,
   "metadata": {
    "ExecuteTime": {
     "end_time": "2024-09-08T00:31:15.311641Z",
     "start_time": "2024-09-08T00:30:24.532691Z"
    }
   },
   "outputs": [
    {
     "name": "stdout",
     "output_type": "stream",
     "text": [
      "Guardado 100 muestras para beta = 0\n",
      "Guardado 100 muestras para beta = 0.1\n",
      "Guardado 100 muestras para beta = 0.2\n",
      "Guardado 100 muestras para beta = 0.3\n",
      "Guardado 100 muestras para beta = 0.4\n",
      "Guardado 100 muestras para beta = 0.5\n"
     ]
    }
   ],
   "source": [
    "configuraciones_pw = {}\n",
    "tiempos_coalescencia = {}\n",
    "\n",
    "k = 10\n",
    "beta_list_pw = [0, 0.1, 0.2, 0.3, 0.4, 0.5]#, 0.6]\n",
    "n_muestras = 100\n",
    "\n",
    "\n",
    "# Loop principal\\n\",\n",
    "for beta in beta_list_pw: # Beta a utilizar\n",
    "    configuraciones_pw[beta] = []\n",
    "    tiempos_coalescencia[beta] = []\n",
    "    for _ in range(n_muestras): # Numero de muestras a guardar\n",
    "        data = gibbs_sampler_pw(k, beta)\n",
    "        configuraciones_pw[beta].append(data[0].copy())  # Guarda la configuracion final\n",
    "        tiempos_coalescencia[beta].append(data[1])  # Guarda el tiempo de coalecencia\n",
    "    print(f\"Guardado {n_muestras} muestras para beta = {beta}\")"
   ]
  },
  {
   "cell_type": "markdown",
   "metadata": {},
   "source": [
    "### Estimacion valor esperado de magnetización en modelo de Ising\n",
    "\n",
    "Con las muestras que tenemos, vamos a comparar la magnetización del sistema para las muestras generadas con MCMCM y Propp-Wilson. \n",
    " \n",
    "Para esto, primero tenemos que calcular la magnetización de cada una de las muestras encontradas. Para esto, usamos la fórmula:"
   ]
  },
  {
   "cell_type": "markdown",
   "metadata": {},
   "source": [
    "$$M(\\eta) =  \\left| \\frac{1}{|V_{k}|}\\sum_{x \\in V_{k}} \\eta_{x} \\right|$$"
   ]
  },
  {
   "cell_type": "markdown",
   "metadata": {},
   "source": [
    "En nuestro caso tenemos $|V_{k}| = k^{2}$.\n",
    "\n",
    "Por otra parte, el valor absoluto se añade por una cuestión física. Suponga que se tienen 3 configuraciones con las siguientes características:\n",
    "\n",
    "1. Todos los spins hacia arriba (+1).\n",
    "2. Todos los sipins hacia abajo (-1).\n",
    "3. De forma aleatoria y desordenada, la mitad de los spins están hacia arriba (+1), y la otra mitad hacia abajo (-1).\n",
    "\n",
    "El tercer caso representa un sistema completamente desmagnetizado, pues los spins no siguen ningún patrón coherente. Por su parte, las dos primeras configuraciones representan un estado con alta magnetización, dado que los spins se encuentran perfectamente ordenados. \n",
    "\n",
    "Esto justifica la existencia del valor esperado, pues tiene en cuenta la simetría física del sistema presente entre la configuración 1. y 2. \n",
    "\n",
    "Finalmente, otro argumento físico a favor de esta valor absoluto es el comportamiento del sistema visto anteriormente para distintos valores de $\\beta$:\n",
    "\n",
    "- Para $\\beta = 0$ (altas temperaturas), la organización de spins parece ser de tipo i.i.d.: aproximadamente la mitad está en estado +1, y otra mitad en estado -1, sin ningún tipo de preferencia espacial.\n",
    "- Para $\\beta = 1$ (bajas temperaturas), la organización de spins es a) todos en estado +1, o b) todos en estado -1.\n",
    "\n",
    "\n",
    "Así, tenemos la siguiente función:"
   ]
  },
  {
   "cell_type": "code",
   "execution_count": 12,
   "metadata": {
    "ExecuteTime": {
     "end_time": "2024-09-08T00:32:01.896785Z",
     "start_time": "2024-09-08T00:32:01.880323Z"
    }
   },
   "outputs": [
    {
     "name": "stdout",
     "output_type": "stream",
     "text": [
      "Hallada la magnetizacion de MCMCM para step 1000\n",
      "Hallada la magnetizacion de MCMCM para step 10000\n",
      "Hallada la magnetizacion de MCMCM para step 100000\n",
      "Hallada la magnetizacion de Propp-Wilson\n"
     ]
    }
   ],
   "source": [
    "def calcular_magnetizacion(k, configuraciones, beta_list):\n",
    "    magnetizacion_list = {}\n",
    "    for beta in beta_list:\n",
    "        magnetizacion_list[beta] = []\n",
    "        for config in configuraciones[beta]:\n",
    "            magnetizacion_list[beta].append(abs(np.sum(config)/(k**2)))\n",
    "    return magnetizacion_list\n",
    "\n",
    "magnetismo_mcmc_list = {} # Lista por numero de pasos de magnetizacion en muestras de MCMC\n",
    "for step in steps_list:\n",
    "    magnetismo_mcmc_list[step] = calcular_magnetizacion(k, configuraciones_mcmc[step], beta_list_mcmcm) # Magnetizacion muestras MCMCM\n",
    "    print(f\"Hallada la magnetizacion de MCMCM para step {step}\")\n",
    "\n",
    "magnetismo_pw = calcular_magnetizacion(k, configuraciones_pw, beta_list_pw) # Magnetizacion muestras Prop-Wilson\n",
    "print(f\"Hallada la magnetizacion de Propp-Wilson\")"
   ]
  },
  {
   "cell_type": "markdown",
   "metadata": {},
   "source": [
    "Ahora calculamos el valor esperado de la magnetización para configuración mnediante la siguiente expresión:"
   ]
  },
  {
   "cell_type": "markdown",
   "metadata": {},
   "source": [
    "$$E[M(\\eta)] \\approx \\frac{1}{X} \\sum_{k=1}^{X}M(\\eta_{k})$$"
   ]
  },
  {
   "cell_type": "markdown",
   "metadata": {},
   "source": [
    "donde $X$ es el numero de muestras, que en nuestro caso es $100$. Así, definimos la siguiente función:"
   ]
  },
  {
   "cell_type": "code",
   "execution_count": 13,
   "metadata": {
    "ExecuteTime": {
     "end_time": "2024-09-08T00:32:04.525769Z",
     "start_time": "2024-09-08T00:32:04.521882Z"
    }
   },
   "outputs": [
    {
     "name": "stdout",
     "output_type": "stream",
     "text": [
      "Valor esperado usando MCMC con X = 1000:\n",
      "{0: 0.08019999999999998,\n",
      " 0.1: 0.0986,\n",
      " 0.2: 0.1232,\n",
      " 0.3: 0.19139999999999996,\n",
      " 0.4: 0.27699999999999997,\n",
      " 0.5: 0.36160000000000003,\n",
      " 0.6: 0.42100000000000004,\n",
      " 0.7: 0.38980000000000004,\n",
      " 0.8: 0.41979999999999995,\n",
      " 0.9: 0.4298,\n",
      " 1: 0.4428}\n",
      "\n",
      "Valor esperado usando MCMC con X = 10000:\n",
      "{0: 0.0842,\n",
      " 0.1: 0.0898,\n",
      " 0.2: 0.1184,\n",
      " 0.3: 0.1666,\n",
      " 0.4: 0.32520000000000004,\n",
      " 0.5: 0.63,\n",
      " 0.6: 0.8047999999999998,\n",
      " 0.7: 0.8114,\n",
      " 0.8: 0.8888000000000001,\n",
      " 0.9: 0.884,\n",
      " 1: 0.8198000000000001}\n",
      "\n",
      "Valor esperado usando MCMC con X = 100000:\n",
      "{0: 0.0814,\n",
      " 0.1: 0.08900000000000002,\n",
      " 0.2: 0.13,\n",
      " 0.3: 0.20100000000000004,\n",
      " 0.4: 0.32580000000000003,\n",
      " 0.5: 0.618,\n",
      " 0.6: 0.8844000000000001,\n",
      " 0.7: 0.9558000000000001,\n",
      " 0.8: 0.9756000000000001,\n",
      " 0.9: 0.9914000000000001,\n",
      " 1: 0.9922}\n",
      "\n",
      "Valor esperado usando PW: \n",
      "{0: 0.08340000000000002,\n",
      " 0.1: 0.1026,\n",
      " 0.2: 0.12459999999999999,\n",
      " 0.3: 0.185,\n",
      " 0.4: 0.3679999999999999,\n",
      " 0.5: 0.6829999999999998}\n"
     ]
    }
   ],
   "source": [
    "def valor_esperado(magnetismo, beta_list):\n",
    "    vesperado_list = {}\n",
    "    for beta in beta_list:\n",
    "        vesperado_list[beta] = np.average(magnetismo[beta])\n",
    "    \n",
    "    return vesperado_list\n",
    "\n",
    "vesperado_mcmc_list = {} # Lista por numero de pasos de valor esperado en mustras de mcmc\n",
    "for step in steps_list:\n",
    "    vesperado_mcmc_list[step] = valor_esperado(magnetismo_mcmc_list[step], beta_list_mcmcm) # Valor esperado de magnetizacion en MCMC\n",
    "\n",
    "\n",
    "vesperado_pw = valor_esperado(magnetismo_pw, beta_list_pw) # Valor esperado de magnetizacion en P-W\n",
    "\n",
    "for step in steps_list:\n",
    "    print(f\"Valor esperado usando MCMC con X = {step}:\")\n",
    "    pprint(vesperado_mcmc_list[step])\n",
    "    print()\n",
    "\n",
    "print(\"Valor esperado usando PW: \")\n",
    "pprint(vesperado_pw)\n"
   ]
  },
  {
   "cell_type": "markdown",
   "metadata": {},
   "source": [
    "---\n",
    "# Reporte"
   ]
  },
  {
   "cell_type": "markdown",
   "metadata": {},
   "source": [
    "### Coalescencia\n",
    "\n",
    "Graficas para tiempos de Coalescencia en Propp-Wilson para cada beta"
   ]
  },
  {
   "cell_type": "code",
   "execution_count": 120,
   "metadata": {
    "ExecuteTime": {
     "end_time": "2024-09-08T01:11:45.267414Z",
     "start_time": "2024-09-08T01:11:44.984931Z"
    }
   },
   "outputs": [
    {
     "data": {
      "image/png": "[encoded data removed]",
      "text/plain": [
       "<Figure size 1600x600 with 2 Axes>"
      ]
     },
     "metadata": {},
     "output_type": "display_data"
    }
   ],
   "source": [
    "time_avg_list = []\n",
    "time_std_list = []\n",
    "\n",
    "for beta in beta_list_pw:\n",
    "    time_avg_list.append(np.average(tiempos_coalescencia[beta]))\n",
    "    time_std_list.append(np.std(tiempos_coalescencia[beta]))\n",
    "\n",
    "\n",
    "\n",
    "## Begin plot\n",
    "fig, (ax1, ax2) = plt.subplots(1, 2, figsize=(16, 6))\n",
    "plt.subplots_adjust(wspace=0.4)\n",
    "\n",
    "\n",
    "## Barplot de la izquierda\n",
    "ax1.set_title('Tiempos de coalescencia, barplot')\n",
    "ax1.boxplot([tiempos_coalescencia[beta] for beta in beta_list_pw], tick_labels=beta_list_pw)\n",
    "ax1.set_yscale('log')\n",
    "ax1.set_xlabel(r'Inverso de temperatura, $\\beta$')\n",
    "ax1.set_ylabel('Tiempo de Coalescencia')\n",
    "\n",
    "\n",
    "## Gráfico simple de la derecha   \n",
    "ax2.plot(beta_list_pw, time_avg_list, color='purple', marker='o', linestyle='--', markersize=9, linewidth=2)\n",
    "ax2.set_title('Tiempos de coalescencia, gráfico simple')\n",
    "ax2.set_yscale('log')\n",
    "ax2.set_xlabel(r'Inverso de temperatura, $\\beta$')\n",
    "ax2.set_ylabel('Tiempo de Coalescencia')\n",
    "ax2.set_ylim([0.9*1E3, np.max(time_avg_list)*1.5])\n",
    "ax2.grid()\n",
    "\n",
    "\n",
    "plt.show()"
   ]
  },
  {
   "cell_type": "code",
   "execution_count": 124,
   "metadata": {
    "ExecuteTime": {
     "end_time": "2024-09-08T01:12:26.345068Z",
     "start_time": "2024-09-08T01:12:26.139390Z"
    }
   },
   "outputs": [
    {
     "data": {
      "image/png": "[encoded data removed]",
      "text/plain": [
       "<Figure size 640x480 with 1 Axes>"
      ]
     },
     "metadata": {},
     "output_type": "display_data"
    }
   ],
   "source": [
    "fig, ax = plt.subplots()\n",
    "\n",
    "for beta, times in tiempos_coalescencia.items():\n",
    "    ax.hist(times, bins=10, alpha=0.5, label=f'beta={beta}')\n",
    "\n",
    "ax.set_title(r'Distribución de Tiempos de Coalescencia para cada $\\beta$')\n",
    "ax.set_xlabel('Tiempo de Coalescencia')\n",
    "ax.set_ylabel('Frecuencia')\n",
    "\n",
    "ax.set_xscale('log')\n",
    "\n",
    "ax.legend()\n",
    "\n",
    "plt.show()"
   ]
  },
  {
   "cell_type": "markdown",
   "metadata": {},
   "source": [
    "## Transición de fase"
   ]
  },
  {
   "cell_type": "code",
   "execution_count": 181,
   "metadata": {
    "ExecuteTime": {
     "end_time": "2024-09-08T01:45:50.887327Z",
     "start_time": "2024-09-08T01:45:50.789825Z"
    }
   },
   "outputs": [
    {
     "data": {
      "image/png": "[encoded data removed]",
      "text/plain": [
       "<Figure size 900x600 with 1 Axes>"
      ]
     },
     "metadata": {},
     "output_type": "display_data"
    }
   ],
   "source": [
    "\n",
    "\n",
    "onsager_critical_value = 0.5 * np.log(1 + np.sqrt(2))\n",
    "marker_list = ['o', 's', '^', 'd']\n",
    "\n",
    "\n",
    "plt.figure(figsize=(9, 6))\n",
    "\n",
    "## Plot de MCMC\n",
    "for ii, step in enumerate(steps_list):\n",
    "    magnetizaciones = list(vesperado_mcmc_list[step].values())\n",
    "    plt.plot(beta_list_mcmcm, magnetizaciones, label=f'MCMC: {step} pasos', marker=marker_list[ii], linestyle='-', markersize=7, linewidth=2)\n",
    "      \n",
    "\n",
    "## Plot de Propp-Wilson\n",
    "plt.plot(beta_list_pw, list(vesperado_pw.values()), label='Propp-Wilson', color='purple', marker='x', linestyle='-', markersize=7, linewidth=2)\n",
    "    \n",
    "    \n",
    "## Onsager critical\n",
    "plt.vlines(onsager_critical_value, 0, 1, linestyles='dashed', label='Punto crítico de Onsager', color='red')\n",
    "\n",
    " \n",
    " \n",
    "## Propiedades de la gráfica\n",
    "plt.xlabel(r'Inverso de temperatura, $\\beta$')\n",
    "plt.ylabel(r'Magnetización promedio, $M ( \\eta ) $')\n",
    "plt.legend()\n",
    "#plt.grid()\n",
    "\n",
    "plt.show()\n"
   ]
  },
  {
   "cell_type": "markdown",
   "metadata": {},
   "source": [
    "# Aneealing"
   ]
  },
  {
   "cell_type": "code",
   "execution_count": null,
   "metadata": {},
   "outputs": [],
   "source": [
    "import numpy as np\n",
    "import random\n",
    "import math\n",
    "import matplotlib.pyplot as plt\n",
    "import pandas as pd\n",
    "from copy import deepcopy\n",
    "\n",
    "def cargar_puntos_csv(archivo):\n",
    "    return pd.read_csv(archivo, header=None).values\n",
    "    \n",
    "def distancia_puntos(punto_1, punto_2):\n",
    "    return math.sqrt((punto_1[0] - punto_2[0])**2 + (punto_1[1] - punto_2[1])**2)\n",
    "\n",
    "def calcular_distancia_total(recorrido):\n",
    "\n",
    "    total = 0\n",
    "\n",
    "    for i in range(len(recorrido)-1):\n",
    "        total += distancia_puntos(recorrido[i], recorrido[i + 1])\n",
    "\n",
    "    return total\n",
    "\n",
    "def calcular_aceptacion(mejor_distancia, distancia, temp):\n",
    "    return np.exp(-1*(mejor_distancia-distancia)/temp)\n",
    "\n",
    "def recorrido_aleatorio(puntos):\n",
    "    recorrido = list(range(1, len(puntos)))  # Excluir el punto (0,0) del shuffle\n",
    "    random.shuffle(recorrido)\n",
    "    recorrido.insert(0, 0)  # Agregar el punto (0,0) al inicio\n",
    "    return np.array([puntos[x] for x in recorrido])\n",
    "\n",
    "def simulated_annealing(puntos, t_inicial, temp_final, enfriamiento, iteraciones):\n",
    "    recorrido = recorrido_aleatorio(puntos)\n",
    "    mejor_distancia = calcular_distancia_total(puntos) # cost0\n",
    "    print(recorrido)\n",
    "\n",
    "    temp = t_inicial\n",
    "\n",
    "    while temp > temp_final:\n",
    "\n",
    "        for _ in range(iteraciones):\n",
    "\n",
    "            i, j = np.random.randint(1, len(puntos), size=2)\n",
    "\n",
    "            aux = deepcopy(recorrido[i])\n",
    "            recorrido[i] = recorrido[j]\n",
    "            recorrido[j] = aux\n",
    "            \n",
    "            nueva_distancia = calcular_distancia_total(recorrido)\n",
    "            \n",
    "            if nueva_distancia < mejor_distancia:\n",
    "                mejor_distancia = nueva_distancia\n",
    "\n",
    "            else: \n",
    "                if np.random.rand() < calcular_aceptacion(mejor_distancia, nueva_distancia, temp):\n",
    "                    mejor_distancia = nueva_distancia\n",
    "                else:\n",
    "                    aux = deepcopy(recorrido[i])\n",
    "                    recorrido[i] = recorrido[j]\n",
    "                    recorrido[j] = aux\n",
    "            \n",
    "        temp *= enfriamiento\n",
    "    return recorrido, mejor_distancia \n",
    "\n",
    "data = cargar_puntos_csv(\"data.csv\")\n",
    "\n",
    "temp_inicial = 100\n",
    "temp_final = 0.1\n",
    "enfriamiento = 0.99\n",
    "\n",
    "iteraciones = 100\n",
    "\n",
    "recorrido, distancia = simulated_annealing(data, temp_inicial, temp_final, enfriamiento, iteraciones)\n",
    "\n",
    "print(\"Mejor recorrido:\", recorrido)\n",
    "print(\"Distancia total:\", distancia)\n",
    "\n",
    "# Graficar el recorrido\n",
    "plt.figure(figsize=(8, 8))\n",
    "plt.scatter(data[:, 0], data[:, 1], color='blue', label='Puntos')\n",
    "plt.plot(recorrido[[x for x in range(len(data))], 0], recorrido[[x for x in range(len(data))], 1], color='red', label='Recorrido')\n",
    "plt.title('Recorrido del Viajero')\n",
    "plt.xlabel('X')\n",
    "plt.ylabel('Y')\n",
    "plt.legend()\n",
    "plt.show()\n"
   ]
  }
 ],
 "metadata": {
  "kernelspec": {
   "display_name": "myenv",
   "language": "python",
   "name": "python3"
  },
  "language_info": {
   "codemirror_mode": {
    "name": "ipython",
    "version": 3
   },
   "file_extension": ".py",
   "mimetype": "text/x-python",
   "name": "python",
   "nbconvert_exporter": "python",
   "pygments_lexer": "ipython3",
   "version": "3.10.6"
  }
 },
 "nbformat": 4,
 "nbformat_minor": 2
}
